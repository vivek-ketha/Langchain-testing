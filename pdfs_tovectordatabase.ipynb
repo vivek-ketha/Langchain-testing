{
 "cells": [
  {
   "cell_type": "code",
   "execution_count": 76,
   "metadata": {},
   "outputs": [
    {
     "name": "stdout",
     "output_type": "stream",
     "text": [
      "Requirement already satisfied: pypdf2 in c:\\users\\dell\\appdata\\local\\packages\\pythonsoftwarefoundation.python.3.10_qbz5n2kfra8p0\\localcache\\local-packages\\python310\\site-packages (3.0.1)\n",
      "Requirement already satisfied: chromadb in c:\\users\\dell\\appdata\\local\\packages\\pythonsoftwarefoundation.python.3.10_qbz5n2kfra8p0\\localcache\\local-packages\\python310\\site-packages (0.4.22)\n",
      "Requirement already satisfied: openai in c:\\users\\dell\\appdata\\local\\packages\\pythonsoftwarefoundation.python.3.10_qbz5n2kfra8p0\\localcache\\local-packages\\python310\\site-packages (1.12.0)\n",
      "Collecting umap\n",
      "  Downloading umap-0.1.1.tar.gz (3.2 kB)\n",
      "  Installing build dependencies: started\n",
      "  Installing build dependencies: finished with status 'done'\n",
      "  Getting requirements to build wheel: started\n",
      "  Getting requirements to build wheel: finished with status 'done'\n",
      "  Preparing metadata (pyproject.toml): started\n",
      "  Preparing metadata (pyproject.toml): finished with status 'done'\n",
      "Requirement already satisfied: build>=1.0.3 in c:\\users\\dell\\appdata\\local\\packages\\pythonsoftwarefoundation.python.3.10_qbz5n2kfra8p0\\localcache\\local-packages\\python310\\site-packages (from chromadb) (1.0.3)\n",
      "Requirement already satisfied: requests>=2.28 in c:\\users\\dell\\appdata\\local\\packages\\pythonsoftwarefoundation.python.3.10_qbz5n2kfra8p0\\localcache\\local-packages\\python310\\site-packages (from chromadb) (2.30.0)\n",
      "Requirement already satisfied: pydantic>=1.9 in c:\\users\\dell\\appdata\\local\\packages\\pythonsoftwarefoundation.python.3.10_qbz5n2kfra8p0\\localcache\\local-packages\\python310\\site-packages (from chromadb) (2.6.0)\n",
      "Requirement already satisfied: chroma-hnswlib==0.7.3 in c:\\users\\dell\\appdata\\local\\packages\\pythonsoftwarefoundation.python.3.10_qbz5n2kfra8p0\\localcache\\local-packages\\python310\\site-packages (from chromadb) (0.7.3)\n",
      "Requirement already satisfied: fastapi>=0.95.2 in c:\\users\\dell\\appdata\\local\\packages\\pythonsoftwarefoundation.python.3.10_qbz5n2kfra8p0\\localcache\\local-packages\\python310\\site-packages (from chromadb) (0.109.2)\n",
      "Requirement already satisfied: uvicorn[standard]>=0.18.3 in c:\\users\\dell\\appdata\\local\\packages\\pythonsoftwarefoundation.python.3.10_qbz5n2kfra8p0\\localcache\\local-packages\\python310\\site-packages (from chromadb) (0.27.0.post1)\n",
      "Requirement already satisfied: numpy>=1.22.5 in c:\\users\\dell\\appdata\\local\\packages\\pythonsoftwarefoundation.python.3.10_qbz5n2kfra8p0\\localcache\\local-packages\\python310\\site-packages (from chromadb) (1.24.3)\n",
      "Requirement already satisfied: posthog>=2.4.0 in c:\\users\\dell\\appdata\\local\\packages\\pythonsoftwarefoundation.python.3.10_qbz5n2kfra8p0\\localcache\\local-packages\\python310\\site-packages (from chromadb) (3.4.0)\n",
      "Requirement already satisfied: typing-extensions>=4.5.0 in c:\\users\\dell\\appdata\\local\\packages\\pythonsoftwarefoundation.python.3.10_qbz5n2kfra8p0\\localcache\\local-packages\\python310\\site-packages (from chromadb) (4.9.0)\n",
      "Requirement already satisfied: pulsar-client>=3.1.0 in c:\\users\\dell\\appdata\\local\\packages\\pythonsoftwarefoundation.python.3.10_qbz5n2kfra8p0\\localcache\\local-packages\\python310\\site-packages (from chromadb) (3.4.0)\n",
      "Requirement already satisfied: onnxruntime>=1.14.1 in c:\\users\\dell\\appdata\\local\\packages\\pythonsoftwarefoundation.python.3.10_qbz5n2kfra8p0\\localcache\\local-packages\\python310\\site-packages (from chromadb) (1.17.0)\n",
      "Requirement already satisfied: opentelemetry-api>=1.2.0 in c:\\users\\dell\\appdata\\local\\packages\\pythonsoftwarefoundation.python.3.10_qbz5n2kfra8p0\\localcache\\local-packages\\python310\\site-packages (from chromadb) (1.22.0)\n",
      "Requirement already satisfied: opentelemetry-exporter-otlp-proto-grpc>=1.2.0 in c:\\users\\dell\\appdata\\local\\packages\\pythonsoftwarefoundation.python.3.10_qbz5n2kfra8p0\\localcache\\local-packages\\python310\\site-packages (from chromadb) (1.22.0)\n",
      "Requirement already satisfied: opentelemetry-instrumentation-fastapi>=0.41b0 in c:\\users\\dell\\appdata\\local\\packages\\pythonsoftwarefoundation.python.3.10_qbz5n2kfra8p0\\localcache\\local-packages\\python310\\site-packages (from chromadb) (0.43b0)\n",
      "Requirement already satisfied: opentelemetry-sdk>=1.2.0 in c:\\users\\dell\\appdata\\local\\packages\\pythonsoftwarefoundation.python.3.10_qbz5n2kfra8p0\\localcache\\local-packages\\python310\\site-packages (from chromadb) (1.22.0)\n",
      "Requirement already satisfied: tokenizers>=0.13.2 in c:\\users\\dell\\appdata\\local\\packages\\pythonsoftwarefoundation.python.3.10_qbz5n2kfra8p0\\localcache\\local-packages\\python310\\site-packages (from chromadb) (0.13.3)\n",
      "Requirement already satisfied: pypika>=0.48.9 in c:\\users\\dell\\appdata\\local\\packages\\pythonsoftwarefoundation.python.3.10_qbz5n2kfra8p0\\localcache\\local-packages\\python310\\site-packages (from chromadb) (0.48.9)\n",
      "Requirement already satisfied: tqdm>=4.65.0 in c:\\users\\dell\\appdata\\local\\packages\\pythonsoftwarefoundation.python.3.10_qbz5n2kfra8p0\\localcache\\local-packages\\python310\\site-packages (from chromadb) (4.65.0)\n",
      "Requirement already satisfied: overrides>=7.3.1 in c:\\users\\dell\\appdata\\local\\packages\\pythonsoftwarefoundation.python.3.10_qbz5n2kfra8p0\\localcache\\local-packages\\python310\\site-packages (from chromadb) (7.7.0)\n",
      "Requirement already satisfied: importlib-resources in c:\\users\\dell\\appdata\\local\\packages\\pythonsoftwarefoundation.python.3.10_qbz5n2kfra8p0\\localcache\\local-packages\\python310\\site-packages (from chromadb) (6.1.1)\n",
      "Requirement already satisfied: grpcio>=1.58.0 in c:\\users\\dell\\appdata\\local\\packages\\pythonsoftwarefoundation.python.3.10_qbz5n2kfra8p0\\localcache\\local-packages\\python310\\site-packages (from chromadb) (1.60.1)\n",
      "Requirement already satisfied: bcrypt>=4.0.1 in c:\\users\\dell\\appdata\\local\\packages\\pythonsoftwarefoundation.python.3.10_qbz5n2kfra8p0\\localcache\\local-packages\\python310\\site-packages (from chromadb) (4.1.2)\n",
      "Requirement already satisfied: typer>=0.9.0 in c:\\users\\dell\\appdata\\local\\packages\\pythonsoftwarefoundation.python.3.10_qbz5n2kfra8p0\\localcache\\local-packages\\python310\\site-packages (from chromadb) (0.9.0)\n",
      "Requirement already satisfied: kubernetes>=28.1.0 in c:\\users\\dell\\appdata\\local\\packages\\pythonsoftwarefoundation.python.3.10_qbz5n2kfra8p0\\localcache\\local-packages\\python310\\site-packages (from chromadb) (29.0.0)\n",
      "Requirement already satisfied: tenacity>=8.2.3 in c:\\users\\dell\\appdata\\local\\packages\\pythonsoftwarefoundation.python.3.10_qbz5n2kfra8p0\\localcache\\local-packages\\python310\\site-packages (from chromadb) (8.2.3)\n",
      "Requirement already satisfied: PyYAML>=6.0.0 in c:\\users\\dell\\appdata\\local\\packages\\pythonsoftwarefoundation.python.3.10_qbz5n2kfra8p0\\localcache\\local-packages\\python310\\site-packages (from chromadb) (6.0)\n",
      "Requirement already satisfied: mmh3>=4.0.1 in c:\\users\\dell\\appdata\\local\\packages\\pythonsoftwarefoundation.python.3.10_qbz5n2kfra8p0\\localcache\\local-packages\\python310\\site-packages (from chromadb) (4.1.0)\n",
      "Requirement already satisfied: anyio<5,>=3.5.0 in c:\\users\\dell\\appdata\\local\\packages\\pythonsoftwarefoundation.python.3.10_qbz5n2kfra8p0\\localcache\\local-packages\\python310\\site-packages (from openai) (3.7.1)\n",
      "Requirement already satisfied: distro<2,>=1.7.0 in c:\\users\\dell\\appdata\\local\\packages\\pythonsoftwarefoundation.python.3.10_qbz5n2kfra8p0\\localcache\\local-packages\\python310\\site-packages (from openai) (1.9.0)\n",
      "Requirement already satisfied: httpx<1,>=0.23.0 in c:\\users\\dell\\appdata\\local\\packages\\pythonsoftwarefoundation.python.3.10_qbz5n2kfra8p0\\localcache\\local-packages\\python310\\site-packages (from openai) (0.26.0)\n",
      "Requirement already satisfied: sniffio in c:\\users\\dell\\appdata\\local\\packages\\pythonsoftwarefoundation.python.3.10_qbz5n2kfra8p0\\localcache\\local-packages\\python310\\site-packages (from openai) (1.3.0)\n",
      "Requirement already satisfied: idna>=2.8 in c:\\users\\dell\\appdata\\local\\packages\\pythonsoftwarefoundation.python.3.10_qbz5n2kfra8p0\\localcache\\local-packages\\python310\\site-packages (from anyio<5,>=3.5.0->openai) (3.4)\n",
      "Requirement already satisfied: exceptiongroup in c:\\users\\dell\\appdata\\local\\packages\\pythonsoftwarefoundation.python.3.10_qbz5n2kfra8p0\\localcache\\local-packages\\python310\\site-packages (from anyio<5,>=3.5.0->openai) (1.2.0)\n",
      "Requirement already satisfied: packaging>=19.0 in c:\\users\\dell\\appdata\\local\\packages\\pythonsoftwarefoundation.python.3.10_qbz5n2kfra8p0\\localcache\\local-packages\\python310\\site-packages (from build>=1.0.3->chromadb) (23.2)\n",
      "Requirement already satisfied: pyproject_hooks in c:\\users\\dell\\appdata\\local\\packages\\pythonsoftwarefoundation.python.3.10_qbz5n2kfra8p0\\localcache\\local-packages\\python310\\site-packages (from build>=1.0.3->chromadb) (1.0.0)\n",
      "Requirement already satisfied: colorama in c:\\users\\dell\\appdata\\local\\packages\\pythonsoftwarefoundation.python.3.10_qbz5n2kfra8p0\\localcache\\local-packages\\python310\\site-packages (from build>=1.0.3->chromadb) (0.4.6)\n",
      "Requirement already satisfied: tomli>=1.1.0 in c:\\users\\dell\\appdata\\local\\packages\\pythonsoftwarefoundation.python.3.10_qbz5n2kfra8p0\\localcache\\local-packages\\python310\\site-packages (from build>=1.0.3->chromadb) (2.0.1)\n",
      "Requirement already satisfied: starlette<0.37.0,>=0.36.3 in c:\\users\\dell\\appdata\\local\\packages\\pythonsoftwarefoundation.python.3.10_qbz5n2kfra8p0\\localcache\\local-packages\\python310\\site-packages (from fastapi>=0.95.2->chromadb) (0.36.3)\n",
      "Requirement already satisfied: certifi in c:\\users\\dell\\appdata\\local\\packages\\pythonsoftwarefoundation.python.3.10_qbz5n2kfra8p0\\localcache\\local-packages\\python310\\site-packages (from httpx<1,>=0.23.0->openai) (2023.5.7)\n",
      "Requirement already satisfied: httpcore==1.* in c:\\users\\dell\\appdata\\local\\packages\\pythonsoftwarefoundation.python.3.10_qbz5n2kfra8p0\\localcache\\local-packages\\python310\\site-packages (from httpx<1,>=0.23.0->openai) (1.0.2)\n",
      "Requirement already satisfied: h11<0.15,>=0.13 in c:\\users\\dell\\appdata\\local\\packages\\pythonsoftwarefoundation.python.3.10_qbz5n2kfra8p0\\localcache\\local-packages\\python310\\site-packages (from httpcore==1.*->httpx<1,>=0.23.0->openai) (0.14.0)\n",
      "Requirement already satisfied: six>=1.9.0 in c:\\users\\dell\\appdata\\local\\packages\\pythonsoftwarefoundation.python.3.10_qbz5n2kfra8p0\\localcache\\local-packages\\python310\\site-packages (from kubernetes>=28.1.0->chromadb) (1.16.0)\n",
      "Requirement already satisfied: python-dateutil>=2.5.3 in c:\\users\\dell\\appdata\\local\\packages\\pythonsoftwarefoundation.python.3.10_qbz5n2kfra8p0\\localcache\\local-packages\\python310\\site-packages (from kubernetes>=28.1.0->chromadb) (2.8.2)\n",
      "Requirement already satisfied: google-auth>=1.0.1 in c:\\users\\dell\\appdata\\local\\packages\\pythonsoftwarefoundation.python.3.10_qbz5n2kfra8p0\\localcache\\local-packages\\python310\\site-packages (from kubernetes>=28.1.0->chromadb) (2.27.0)\n",
      "Requirement already satisfied: websocket-client!=0.40.0,!=0.41.*,!=0.42.*,>=0.32.0 in c:\\users\\dell\\appdata\\local\\packages\\pythonsoftwarefoundation.python.3.10_qbz5n2kfra8p0\\localcache\\local-packages\\python310\\site-packages (from kubernetes>=28.1.0->chromadb) (1.5.2)\n",
      "Requirement already satisfied: requests-oauthlib in c:\\users\\dell\\appdata\\local\\packages\\pythonsoftwarefoundation.python.3.10_qbz5n2kfra8p0\\localcache\\local-packages\\python310\\site-packages (from kubernetes>=28.1.0->chromadb) (1.3.1)\n",
      "Requirement already satisfied: oauthlib>=3.2.2 in c:\\users\\dell\\appdata\\local\\packages\\pythonsoftwarefoundation.python.3.10_qbz5n2kfra8p0\\localcache\\local-packages\\python310\\site-packages (from kubernetes>=28.1.0->chromadb) (3.2.2)\n",
      "Requirement already satisfied: urllib3>=1.24.2 in c:\\users\\dell\\appdata\\local\\packages\\pythonsoftwarefoundation.python.3.10_qbz5n2kfra8p0\\localcache\\local-packages\\python310\\site-packages (from kubernetes>=28.1.0->chromadb) (2.0.2)\n",
      "Requirement already satisfied: coloredlogs in c:\\users\\dell\\appdata\\local\\packages\\pythonsoftwarefoundation.python.3.10_qbz5n2kfra8p0\\localcache\\local-packages\\python310\\site-packages (from onnxruntime>=1.14.1->chromadb) (15.0.1)\n",
      "Requirement already satisfied: flatbuffers in c:\\users\\dell\\appdata\\local\\packages\\pythonsoftwarefoundation.python.3.10_qbz5n2kfra8p0\\localcache\\local-packages\\python310\\site-packages (from onnxruntime>=1.14.1->chromadb) (23.5.26)\n",
      "Requirement already satisfied: protobuf in c:\\users\\dell\\appdata\\local\\packages\\pythonsoftwarefoundation.python.3.10_qbz5n2kfra8p0\\localcache\\local-packages\\python310\\site-packages (from onnxruntime>=1.14.1->chromadb) (4.24.3)\n",
      "Requirement already satisfied: sympy in c:\\users\\dell\\appdata\\local\\packages\\pythonsoftwarefoundation.python.3.10_qbz5n2kfra8p0\\localcache\\local-packages\\python310\\site-packages (from onnxruntime>=1.14.1->chromadb) (1.12)\n",
      "Requirement already satisfied: deprecated>=1.2.6 in c:\\users\\dell\\appdata\\local\\packages\\pythonsoftwarefoundation.python.3.10_qbz5n2kfra8p0\\localcache\\local-packages\\python310\\site-packages (from opentelemetry-api>=1.2.0->chromadb) (1.2.14)\n",
      "Requirement already satisfied: importlib-metadata<7.0,>=6.0 in c:\\users\\dell\\appdata\\local\\packages\\pythonsoftwarefoundation.python.3.10_qbz5n2kfra8p0\\localcache\\local-packages\\python310\\site-packages (from opentelemetry-api>=1.2.0->chromadb) (6.11.0)\n",
      "Requirement already satisfied: backoff<3.0.0,>=1.10.0 in c:\\users\\dell\\appdata\\local\\packages\\pythonsoftwarefoundation.python.3.10_qbz5n2kfra8p0\\localcache\\local-packages\\python310\\site-packages (from opentelemetry-exporter-otlp-proto-grpc>=1.2.0->chromadb) (2.2.1)\n",
      "Requirement already satisfied: googleapis-common-protos~=1.52 in c:\\users\\dell\\appdata\\local\\packages\\pythonsoftwarefoundation.python.3.10_qbz5n2kfra8p0\\localcache\\local-packages\\python310\\site-packages (from opentelemetry-exporter-otlp-proto-grpc>=1.2.0->chromadb) (1.62.0)\n",
      "Requirement already satisfied: opentelemetry-exporter-otlp-proto-common==1.22.0 in c:\\users\\dell\\appdata\\local\\packages\\pythonsoftwarefoundation.python.3.10_qbz5n2kfra8p0\\localcache\\local-packages\\python310\\site-packages (from opentelemetry-exporter-otlp-proto-grpc>=1.2.0->chromadb) (1.22.0)\n",
      "Requirement already satisfied: opentelemetry-proto==1.22.0 in c:\\users\\dell\\appdata\\local\\packages\\pythonsoftwarefoundation.python.3.10_qbz5n2kfra8p0\\localcache\\local-packages\\python310\\site-packages (from opentelemetry-exporter-otlp-proto-grpc>=1.2.0->chromadb) (1.22.0)\n",
      "Requirement already satisfied: opentelemetry-instrumentation-asgi==0.43b0 in c:\\users\\dell\\appdata\\local\\packages\\pythonsoftwarefoundation.python.3.10_qbz5n2kfra8p0\\localcache\\local-packages\\python310\\site-packages (from opentelemetry-instrumentation-fastapi>=0.41b0->chromadb) (0.43b0)\n",
      "Requirement already satisfied: opentelemetry-instrumentation==0.43b0 in c:\\users\\dell\\appdata\\local\\packages\\pythonsoftwarefoundation.python.3.10_qbz5n2kfra8p0\\localcache\\local-packages\\python310\\site-packages (from opentelemetry-instrumentation-fastapi>=0.41b0->chromadb) (0.43b0)\n",
      "Requirement already satisfied: opentelemetry-semantic-conventions==0.43b0 in c:\\users\\dell\\appdata\\local\\packages\\pythonsoftwarefoundation.python.3.10_qbz5n2kfra8p0\\localcache\\local-packages\\python310\\site-packages (from opentelemetry-instrumentation-fastapi>=0.41b0->chromadb) (0.43b0)\n",
      "Requirement already satisfied: opentelemetry-util-http==0.43b0 in c:\\users\\dell\\appdata\\local\\packages\\pythonsoftwarefoundation.python.3.10_qbz5n2kfra8p0\\localcache\\local-packages\\python310\\site-packages (from opentelemetry-instrumentation-fastapi>=0.41b0->chromadb) (0.43b0)\n",
      "Requirement already satisfied: setuptools>=16.0 in c:\\users\\dell\\appdata\\local\\packages\\pythonsoftwarefoundation.python.3.10_qbz5n2kfra8p0\\localcache\\local-packages\\python310\\site-packages (from opentelemetry-instrumentation==0.43b0->opentelemetry-instrumentation-fastapi>=0.41b0->chromadb) (67.8.0)\n",
      "Requirement already satisfied: wrapt<2.0.0,>=1.0.0 in c:\\users\\dell\\appdata\\local\\packages\\pythonsoftwarefoundation.python.3.10_qbz5n2kfra8p0\\localcache\\local-packages\\python310\\site-packages (from opentelemetry-instrumentation==0.43b0->opentelemetry-instrumentation-fastapi>=0.41b0->chromadb) (1.16.0)\n",
      "Requirement already satisfied: asgiref~=3.0 in c:\\users\\dell\\appdata\\local\\packages\\pythonsoftwarefoundation.python.3.10_qbz5n2kfra8p0\\localcache\\local-packages\\python310\\site-packages (from opentelemetry-instrumentation-asgi==0.43b0->opentelemetry-instrumentation-fastapi>=0.41b0->chromadb) (3.7.2)\n",
      "Requirement already satisfied: monotonic>=1.5 in c:\\users\\dell\\appdata\\local\\packages\\pythonsoftwarefoundation.python.3.10_qbz5n2kfra8p0\\localcache\\local-packages\\python310\\site-packages (from posthog>=2.4.0->chromadb) (1.6)\n",
      "Requirement already satisfied: annotated-types>=0.4.0 in c:\\users\\dell\\appdata\\local\\packages\\pythonsoftwarefoundation.python.3.10_qbz5n2kfra8p0\\localcache\\local-packages\\python310\\site-packages (from pydantic>=1.9->chromadb) (0.6.0)\n",
      "Requirement already satisfied: pydantic-core==2.16.1 in c:\\users\\dell\\appdata\\local\\packages\\pythonsoftwarefoundation.python.3.10_qbz5n2kfra8p0\\localcache\\local-packages\\python310\\site-packages (from pydantic>=1.9->chromadb) (2.16.1)\n",
      "Requirement already satisfied: charset-normalizer<4,>=2 in c:\\users\\dell\\appdata\\local\\packages\\pythonsoftwarefoundation.python.3.10_qbz5n2kfra8p0\\localcache\\local-packages\\python310\\site-packages (from requests>=2.28->chromadb) (3.1.0)\n",
      "Requirement already satisfied: click<9.0.0,>=7.1.1 in c:\\users\\dell\\appdata\\local\\packages\\pythonsoftwarefoundation.python.3.10_qbz5n2kfra8p0\\localcache\\local-packages\\python310\\site-packages (from typer>=0.9.0->chromadb) (7.1.2)\n",
      "Requirement already satisfied: httptools>=0.5.0 in c:\\users\\dell\\appdata\\local\\packages\\pythonsoftwarefoundation.python.3.10_qbz5n2kfra8p0\\localcache\\local-packages\\python310\\site-packages (from uvicorn[standard]>=0.18.3->chromadb) (0.6.1)\n",
      "Requirement already satisfied: python-dotenv>=0.13 in c:\\users\\dell\\appdata\\local\\packages\\pythonsoftwarefoundation.python.3.10_qbz5n2kfra8p0\\localcache\\local-packages\\python310\\site-packages (from uvicorn[standard]>=0.18.3->chromadb) (1.0.1)\n",
      "Requirement already satisfied: watchfiles>=0.13 in c:\\users\\dell\\appdata\\local\\packages\\pythonsoftwarefoundation.python.3.10_qbz5n2kfra8p0\\localcache\\local-packages\\python310\\site-packages (from uvicorn[standard]>=0.18.3->chromadb) (0.21.0)\n",
      "Requirement already satisfied: websockets>=10.4 in c:\\users\\dell\\appdata\\local\\packages\\pythonsoftwarefoundation.python.3.10_qbz5n2kfra8p0\\localcache\\local-packages\\python310\\site-packages (from uvicorn[standard]>=0.18.3->chromadb) (12.0)\n",
      "Requirement already satisfied: cachetools<6.0,>=2.0.0 in c:\\users\\dell\\appdata\\local\\packages\\pythonsoftwarefoundation.python.3.10_qbz5n2kfra8p0\\localcache\\local-packages\\python310\\site-packages (from google-auth>=1.0.1->kubernetes>=28.1.0->chromadb) (5.3.2)\n",
      "Requirement already satisfied: pyasn1-modules>=0.2.1 in c:\\users\\dell\\appdata\\local\\packages\\pythonsoftwarefoundation.python.3.10_qbz5n2kfra8p0\\localcache\\local-packages\\python310\\site-packages (from google-auth>=1.0.1->kubernetes>=28.1.0->chromadb) (0.3.0)\n",
      "Requirement already satisfied: rsa<5,>=3.1.4 in c:\\users\\dell\\appdata\\local\\packages\\pythonsoftwarefoundation.python.3.10_qbz5n2kfra8p0\\localcache\\local-packages\\python310\\site-packages (from google-auth>=1.0.1->kubernetes>=28.1.0->chromadb) (4.9)\n",
      "Requirement already satisfied: zipp>=0.5 in c:\\users\\dell\\appdata\\local\\packages\\pythonsoftwarefoundation.python.3.10_qbz5n2kfra8p0\\localcache\\local-packages\\python310\\site-packages (from importlib-metadata<7.0,>=6.0->opentelemetry-api>=1.2.0->chromadb) (3.17.0)\n",
      "Requirement already satisfied: humanfriendly>=9.1 in c:\\users\\dell\\appdata\\local\\packages\\pythonsoftwarefoundation.python.3.10_qbz5n2kfra8p0\\localcache\\local-packages\\python310\\site-packages (from coloredlogs->onnxruntime>=1.14.1->chromadb) (10.0)\n",
      "Requirement already satisfied: mpmath>=0.19 in c:\\users\\dell\\appdata\\local\\packages\\pythonsoftwarefoundation.python.3.10_qbz5n2kfra8p0\\localcache\\local-packages\\python310\\site-packages (from sympy->onnxruntime>=1.14.1->chromadb) (1.3.0)\n",
      "Requirement already satisfied: pyreadline3 in c:\\users\\dell\\appdata\\local\\packages\\pythonsoftwarefoundation.python.3.10_qbz5n2kfra8p0\\localcache\\local-packages\\python310\\site-packages (from humanfriendly>=9.1->coloredlogs->onnxruntime>=1.14.1->chromadb) (3.4.1)\n",
      "Requirement already satisfied: pyasn1<0.6.0,>=0.4.6 in c:\\users\\dell\\appdata\\local\\packages\\pythonsoftwarefoundation.python.3.10_qbz5n2kfra8p0\\localcache\\local-packages\\python310\\site-packages (from pyasn1-modules>=0.2.1->google-auth>=1.0.1->kubernetes>=28.1.0->chromadb) (0.5.1)\n",
      "Building wheels for collected packages: umap\n",
      "  Building wheel for umap (pyproject.toml): started\n",
      "  Building wheel for umap (pyproject.toml): finished with status 'done'\n",
      "  Created wheel for umap: filename=umap-0.1.1-py3-none-any.whl size=3550 sha256=90e5504f3725dffa393442664f99d5daae47d5844268426ec5f5cc6f0ae85dc5\n",
      "  Stored in directory: c:\\users\\dell\\appdata\\local\\pip\\cache\\wheels\\15\\f1\\28\\53dcf7a309118ed35d810a5f9cb995217800f3f269ab5771cb\n",
      "Successfully built umap\n",
      "Installing collected packages: umap\n",
      "Successfully installed umap-0.1.1\n",
      "Note: you may need to restart the kernel to use updated packages.\n"
     ]
    },
    {
     "name": "stderr",
     "output_type": "stream",
     "text": [
      "\n",
      "[notice] A new release of pip is available: 23.1.2 -> 24.0\n",
      "[notice] To update, run: C:\\Users\\DELL\\AppData\\Local\\Microsoft\\WindowsApps\\PythonSoftwareFoundation.Python.3.10_qbz5n2kfra8p0\\python.exe -m pip install --upgrade pip\n"
     ]
    }
   ],
   "source": [
    "pip install pypdf2 chromadb openai umap"
   ]
  },
  {
   "cell_type": "markdown",
   "metadata": {},
   "source": [
    ">>>>>> Step1: Extracting data from pdf and storing it string in a list\n",
    "\n",
    ">>>>>Limitation of llm model and embedding model \n",
    "\n",
    ">>>llm -->> 4032 tokens\n",
    "\n",
    ">>>> embedding model -->>> 8019 tokens\n"
   ]
  },
  {
   "cell_type": "code",
   "execution_count": 4,
   "metadata": {},
   "outputs": [],
   "source": [
    "from PyPDF2 import PdfReader"
   ]
  },
  {
   "cell_type": "code",
   "execution_count": 39,
   "metadata": {},
   "outputs": [],
   "source": [
    "def pdf_docs(pdf_doc):\n",
    "\n",
    "    text_list=[]\n",
    "\n",
    "    pdf_reader= PdfReader(pdf_doc)\n",
    "    for page in pdf_reader.pages:\n",
    "        text_list.append(page.extract_text())\n",
    "    return text_list"
   ]
  },
  {
   "cell_type": "code",
   "execution_count": 40,
   "metadata": {},
   "outputs": [
    {
     "data": {
      "text/plain": [
       "[' \\n \\n \\n Part III - Administrative, Procedural, and Miscellaneous  \\n \\n  \\n \\nEnergy Community Bonus Credit Amounts under the Inflation Reduction Act of 2022  \\n \\n \\n \\nNotice 2023 -29 \\n  \\nSECTION 1. PURPOSE  \\nThe Department of the Treasury (Treasury Department) and the Internal \\nRevenue Service (IRS) intend to propose regulations (forthcoming proposed \\nregulations) addressing the application of the rules that taxpayers must satisfy to qualify \\nfor the ener gy community bonus credit under §§ 45, 45Y, 48, and 48E of the Internal \\nRevenue Code (Code).\\n1  Public Law 117 -169, 136 Stat. 1818 (August 16, 2022), \\ncommonly known as the Inflation Reduction Act of 2022 (IRA), amends §§ 45 and 48 to \\nprovide increased cred it amounts or rates if certain requirements pertaining to energy \\ncommunities are satisfied, and adds new §§ 45Y and 48E, which provide increased \\ncredit amounts or rates for certain qualified facilities, energy projects, or energy storage \\ntechnologies that satisfy similar requirements and that are placed in service after \\nDecember 31, 2024.2  This notice describes certain rules that the Treasury Department \\n \\n1 Unless otherwise specified, all “section” or “§” references are to sections of the Code or the Income Tax \\nRegulations (26 CFR part 1).  \\n2 See §  13101(g) of the IRA for the energy community provisions under § 45(b)(11), § 13102(o) of the IRA \\nfor the energy community provisions under § 48(a)(14), § 13701(a) of the IRA for the energy community \\nprovisions under § 45Y(g)(7), and §  13702(a) of the IRA for the energy community provisions under \\n§ 48E(a)(3)(A).  ',\n",
       " '2 and the IRS intend to include in the forthcoming proposed regulations for determining \\nwhat constitutes an energy community as defined in § 45(b)(11)(B) and as adopted by \\n§§ 45Y(g)(7), 48(a)(14), and 48E(a)(3)(A) and for determining  whether a qualified \\nfacility, an energy project, or an energy storage technology is located in an energy community.  The Treas ury Department and the IRS also intend to propose that the \\nregulations will apply to taxable years ending after April 4, 2023.  Until the issuance of the forthcoming proposed regulations, taxpayers may rely on the rules described in \\nsections 3 through 6 of  this notice.  \\nSECTION 2. BACKGROUND  \\nFor purposes of this notice, an “EC Project” refers to:  \\n(1) a qualified facility eligible for a credit determined under § 45 (§ 45 credit) or \\ndetermined under § 45Y (§  45Y credit) that is located in an energy community;  \\n(2) an energy project eligible for a credit determined under § 48 (§ 48 credit), \\nwhich may include qualified property for which a taxpayer has made a valid irrevocable \\nelection under § 48(a)(5) to treat such qualified property as energy property under § 48 , \\nthat is placed in service within an energy community; or  \\n(3) a qualified investment with respect to a qualified facility or an energy storage \\ntechnology eligible for a credit determined under § 48E (§ 48E credit) that is placed in \\nservice within an energy community.  \\nSections 45(b)(11), 48(a)(14), 45Y(g)(7), and 48E(a)(3)(A) provide the energy \\ncommunity bonus credit requirements that taxpayers must satisfy to qualify EC Projects \\nfor increased credit amounts or rates under those provisions of the Code.   Section \\n45(b)(11)(A) provides that in the case of a qualified facility located in an energy ',\n",
       " '3 community, the § 45 credit (determined after the application of § 45(b)(1) through (10), \\nwithout the application of § 45(b)(9) (domestic content bonus credit amount)) is \\nincreased by 10 percent.  Section 45Y(g)(7) provides a similar rule with respect to a \\nqualified facility that is eligible for a § 45Y credit.  \\nSection 48(a)(14) provides that in the case of an energy project placed in service \\nwithin an energy commun ity, the energy percentage used to determine the rate of the \\n§ 48 credit is increased by 2 percentage points.  Section 48E(a)(3)(A) provides a similar \\nrule for qualified investments with respect to a qualified facility or energy storage \\ntechnology eligible  for a § 48E credit that is placed in service within an energy \\ncommunity.  In the case of a taxpayer also satisfying the prevailing wage and \\napprenticeship requirements (described in §§ 48(a)(10) and (11) and 48E(d)(3) and (4)) \\nor meeting one of the other project requirements (described in §§ 48(a)(9)(B) and \\n48E(a)(2)(A)(ii) and (2)(B)(ii)), the rate of the §  48 credit or § 48E credit, as applicable, \\nis increased by 10 percentage points.3 \\nOn October 24, 2022, the Treasury Department and the IRS published N otice \\n2022- 51, 2022 -43 I.R.B. 331, requesting comments on bonus credit amounts enacted \\nby the IRA, including the energy community bonus credit provisions.  Section 3.04 of \\nNotice 2022 -51 specifically requested comments on whether clarification is needed fo r \\nthe requirement that a facility be “located in” an energy community; the sources of \\ninformation that the Treasury Department and the IRS should consider to determine \\nmetropolitan statistical areas (MSAs) and non-metropolitan statistical areas (non-MSAs) \\n \\n3 Notice 2022- 61 (published in 87 FR 73580 (November 30, 2022) as corrected in 87 FR 75141 \\n(December 7, 2022); 2022 -52 I.R.B. 560 (December 27, 2022) provides guidance with respect to the \\nprevailing wage and apprenticeship requirements.  ',\n",
       " '4 (including to determine whether an MSA or non-MSA has met the threshold for direct \\nemployment or local tax revenue related to the extraction, processing, transport, or \\nstorage of coal, oil, or natural gas) and to determine which “census tracts” (as defined  \\nby the U.S. Census Bureau (Census Bureau)) had a coal mine closure or coal -fired \\nelectric generating unit retirement in the relevant time periods; and whether any changes to the definition, scope, boundary, or status of a brownfield site, an MSA or \\nnon-MS A, or a census tract should be considered during the relevant credit period.  \\nComments received in response to Notice 2022- 51 were considered in the drafting of \\nthis notice.  \\nSECTION 3. ENERGY COMMUNITY CATEGORIES  \\n.01 In General.  Section 45(b)(11)(B) identifies the following location- based \\ncategories of energy communities for purposes of §§ 45, 45Y, 48, and 48E:  \\n(1) B rownfield Category.  This category includes a brownfield site (as defined in \\n§ 101(39)(A), (B), and (D)(ii)(III) of the Comp rehensive Environmental Response, \\nCompensation, and Liability Act of 1980 (CERCLA) (42 U.S.C. § 9601(39)).  See section 3.02 of this notice for a description of this category of energy community, which this notice refers to as the “Brownfield Category.”  \\n(2) S\\ntatistical Area Category.  This category includes an MSA or non- MSA that: \\n(i) has (or had at any time after December 31, 2009) 0.17 percent or greater direct employment (Fossil Fuel Employment) or 25 percent or greater local tax revenues \\n(Fossil Fuel Tax Revenue) related to the extraction, processing, transport, or storage of \\ncoal, oil, or natural gas (as determined by the Secretary of the Treasury or her delegate (Secretary)), and (ii) has an unemployment rate at or above the national average ',\n",
       " '5 unemployment rate for the previous year (as determined by the Secretary).  See section \\n3.03 of this notice for a description of this category of energy community, which this \\nnotice refers to as the “Statistical Area Category.”  \\n(3) Coal Closure Category.  This category includes a census tract (or a census \\ntract directly adjoining such census tract): (i) in which a coal mine has closed after December 31, 1999, or (ii)  in which a coal -fired electric generating unit has been retired \\nafter December 31, 2009.  See section 3.04 of this notice for a description of this \\ncategory of energy community, which this notice refers to as the “Coal Closure \\nCategory.”  \\n.02 B\\nrownfield Category .  A brownfield site for purposes of the Brownfield \\nCategory is defined in 42 U.S.C. § 9601(39)(A ) as real property, the expansion, \\nredevelopment, or reuse of which may be complicated by the presence or potential \\npresence of a hazardous substance, pollutant, or contaminant (as defined under 42 U.S.C. §  9601) and certain mine-scarred land (as defined in 42 U.S.C. \\n§ 9601(39)(D)(ii)(III)).  A brownfield site does not include the categories of property \\ndescribed in 42 U.S.C. § 9601(39)(B).  \\n.03 S\\ntatistical Area Category . \\n(1) In General.  The Statistical Area Category includes MSAs and non-MSAs. \\n(a) Determin ation of MSAs .  In general, MSAs are groups of counties or county -\\nequivalents that are grouped according to standards determined by the Office of \\nManagement and Budget (OMB), within the Executive Office of the President.  The \\nOMB updates these standards every 10 years in accordance with the decennial census of the United States.  MSA delineations provided by OMB in Bulletin No. 18- 03 (April 18, ',\n",
       " '6 2018) are used for all purposes of this notice.  These delineations reflect the OMB \\nStandards for Delineating Core Based Statistical Areas for the 2010 Decennial Census.4 \\n(b) Determination of non-MSAs .  In general, non-MSAs are defined as \\nnonmetropolitan areas as identified in the May 2021 Metropolitan and Nonmetropolitan Area Definitions\\n5 published by the Occupational Employment and Wages Statistics \\ndivision of the U.S. Bureau of Labor Statistics (BLS).  The BLS works in conjunction with individual states to determine nonmetropolitan area definitions.  MSAs are first delineated, and then counties outside of MSAs are grouped together as \\nnonmetropolitan areas.  For purposes of this notice, the boundaries of non-MSAs in the states of Connecticut, Maine, Massachusetts, New Hampshire, Rhode Island, and Vermont have been determined according to the boundaries of counties in a \\nBLS-defined nonmetropolitan area that have no portion in a MSA.\\n6  For each of the \\nIsland Territories of American Samoa, Guam, the Commonwealth of the Northern \\nMariana Islands, and the U.S. Virgin Islands, the whole territory is grouped as one non-\\nMSA.   Appendix A contains the delineations of MSAs and non -MSAs that are used for \\nall purposes of this notice.  \\n(2) Fossil Fuel Employment.  For purposes of determining whether an MSA or \\nnon-MSA is in the Statistical Area Category based on Fossil Fuel Employment, the \\nrelevant direct employment is determined by the number of people employed in the industries identified below by 2017 North American Industry Classification System \\n \\n4 See 2010 Standards for Delineating Metropolitan and Micropolitan Statist ical Areas , 75 FR 37245 (June \\n28, 2010), available at: https://www.federalregister.gov/documents/ 2010/06/28/2010 -15605/2010 -\\nstandards -for-delineating -metropolitan- and-micropolitan -statistical- areas . \\n5 Available at May 2021 OEWS Metropolitan and Nonmetropolitan Area Definitions (bls.gov) . \\n6 The boundaries of counties are defined in the 2020 TIGER/Line Geodatabases as defined by the \\nCensus Bureau.  ',\n",
       " '7 (NAICS) industry code7: \\n2017 NAICS code  Description  \\n211 Oil and Gas Extraction  \\n2121  Coal Mining  \\n213111  Drilling Oil and Gas Wells  \\n213112  Support Activities for Oil and Gas Operations  \\n213113  Support Activities for Coal Mining  \\n32411  Petroleum Refineries  \\n4861  Pipeline Transportation of Crude Oil  \\n4862  Pipeline Transportation of Natural Gas  \\n \\nThe Fossil Fuel Employment rate is determined as the number of people \\nemployed in the industries identified by the 2017 NAICS codes specified above and as \\nlisted in the annual County Files of the County Business Patterns (CBP) published by \\nthe Census Bureau,8 divided by the total number of people employed in that area.  The \\nFossil Fuel Employment and total employment for each county in an MSA or non-MSA is aggregated for each year to determine whether the MSA or non-MSA meets the \\nFossil Fuel Employment threshold of 0.17 percent.  The list of MSAs and non -MSAs (by \\ncounty) that have (or had any time after December 31, 2009) 0.17 percent or greater direct employment related to the extraction, processing, transportati on, or storage of \\ncoal, oil, or natural gas is available in Appendix  B. \\n(3) Unemployment Rate.  For purposes of determining whether an MSA and non-\\nMSA has an unemployment rate at or above the national average unemployment rate for the previous year, the unemployment rates are determined using the Local Area \\nUnemployment Statistics (LAUS) annual data for counties from the BLS\\n9 and the \\n \\n7 Available at https://www.census.gov/naics/reference_files_tools/2017_NAICS_Manual.pdf . \\n8 Available at CBP Datasets (https://www.census.gov/programs -surveys/cbp/data/datasets.html) . \\n9 BLS Local Area Unemployment Statistics (LAUS) data  for counties is available at \\nhttps://www.bls.gov/lau . ',\n",
       " '8 comparison is made using unemployment rates for the previous calendar year.  The \\ncounty tables report the total number of individuals in the labor force and the total \\nnumber unemployed.  These amounts are then summed for each county within an MSA \\nor non -MSA to determine the total labor force and total number of unemployed \\nindividuals.  The unemployment rate is calculated by div iding the total number of \\nunemployed individuals within the MSA or non-MSA by the total labor force.  \\nAnnual unemployment rates for a calendar year generally are released in April of \\nthe following calendar year.  The Treasury Department and the IRS intend t o issue a \\nlisting identifying the MSAs and non-MSAs that qualify in the Statistical Area Category \\nbased on Fossil Fuel Employment after the unemployment data for 2022 becomes available.  The Treasury Department and the IRS intend to update the listing of t he \\nStatistical Area Category based on Fossil Fuel Employment annually.  These updates \\ngenerally will be issued annually in May.  The first listing of the Statistical Area Category \\nbased on Fossil Fuel Employment will apply to the period beginning on Januar y 1, 2023.  \\nEach subsequent annual release will determine the MSAs and non-MSAs that will \\nqualify under the Statistical Area Category based on Fossil Fuel Employment for the 12-\\nmonth period starting in May through April of the following year.  For example,  the \\nenergy communities defined by the 2022 unemployment rates will be designated in May \\nof 2023 and will remain in place until the next update, which would likely be in May 2024 \\nafter the necessary data becomes available.  The update in May 2024 will use 2023 \\nannual unemployment data and will remain in place until the next update, likely in May 2025.  This approach is used because of the lag in availability of annual county \\nunemployment rates.  ',\n",
       " '9 (4) Fossil Fuel Tax Revenue.  The Statistical Area Category may  include MSAs \\nor non -MSAs based on Fossil Fuel Tax Revenue.  Determining the level of Fossil Fuel \\nTax Revenue for an MSA or non-MSA presents certain data challenges because such \\ndata is not readily available from public sources, MSAs and non-MSAs may cover  \\nmultiple localities that are sometimes, in the case of MSAs, located in different states, \\nand each locality may have a different local tax regime.  The Treasury Department and \\nthe IRS invite public comments addressing the possible data sources, revenue categories, and procedures to determine whether an MSA or non-MSA qualifies under \\nthe Statistical Area Category based on Fossil Fuel Tax Revenue.  \\n.04 C\\noal Closure Category . \\n(1) Census Tracts .  The Census Bureau defines census tracts as relatively \\npermanent s mall-area geographic divisions of a county or statistically equivalent entity \\ndefined for the tabulation and presentation of data from the decennial census and selected other statistical programs.\\n10  For purposes of determining whether a census \\ntract is an  energy community, the term census tract is defined and delineated by the \\nCensus Bureau for purposes of the 2020 Decennial Census (as described in 83 FR 56277).\\n11 \\n(2) Other Definitions Pertaining to Coal Closure Category . \\n(a) Closed Coal Mine.  The term cl osed coal mine means a coal mine classified \\nas a surface or underground mine that has ever had for any period of time, since \\n \\n10 Census Tracts for the 2020 Census —Final Criteria , 83 FR 56277 (November 13, 20218), available at: \\nhttps://www.federalregister.gov/documents/2018/11/13/2018- 24567/census -tracts -for-the-2020- census -\\nfinal-criteria . \\n11 The boundaries of the 2020 census tracts are defined in the 2020 TIGER/Line Geodatabases as \\ndefined by the Census Bureau.  ',\n",
       " \"10 December 31, 1999, a mine status of abandoned or abandoned and sealed by the U.S. \\nDepartment of Labor's Mine Safety and Health Admi nistration (MSHA) in the Mine Data \\nRetrieval System (MDRS).  Closed coal mines listed in the MSHA MDRS are excluded from the Coal Closure Category if they have irregular location information.  This includes closed coal mines with listed latitude and longitude coordinates that do not \\nplace the mines in the listed county and state, and mines with latitude and longitude \\ncoordinates that only extend to the tenths place.  Taxpayers with evidence to correct irregular location information of coal mines abandoned or abandoned and sealed since \\nDecember 31, 1999, may provide that evidence to the MSHA.  In the event that data \\ncorrections are verified by the MSHA, the IRS will include this correction in an annual ministerial notice.  The MSHA will not determine tax cred it eligibility.  \\n(b) Retired Coal -Fired Electric Generating Unit.  The term retired coal -fired \\nelectric generating unit means an electric generating unit classified as retired at any time since December 31, 2009, by the U.S. Energy Information Administration (EIA) of \\nthe U.S. Department of Energy in the Preliminary Monthly Electric Generator Inventory \\n(EIA Form 860M) or the Electric Generator Inventory (EIA Form 860).\\n12  At the time of \\nbeing listed as retired, the generating unit must be characterized as a c oal-fired electric \\ngenerating unit.  \\nAn electric generating unit is a coal -fired generating unit according to its \\nclassification in the EIA data.  An electric generating unit is a generating unit if it is \\nclassified in the Preliminary Monthly Electric Generator Inventory (EIA Form 860M) for \\n \\n12 A coal -fired electric generating unit may operate in a plant with multiple such units.  A retirement after \\nDecember 31, 2009, of a single coal -fired electric generating unit in such a plant would cause the census \\ntract in which such retired unit is located to be included in the Coal Closure Category.  \",\n",
       " '11 years 2016 to 2022 or the Electric Generator Inventory (EIA Form 860) for years 2010 \\nto 2015.  For years 2014 to 2022, coal -fired electric generating units are those listed in \\nEIA Form 860M or EIA Form 860 data as having a “Technology” of “Conventional \\nSteam Coal” or “Coal Integrated Gasification Combined Cycle.”  For years 2010 to \\n2013, coal -fired electric generating units are those listed in EIA Form 860 data as \\nhaving a primary fuel source code of anthracite coal, bituminous coal, lignite coal, refined coal, coal -derived synthesis gas, subbituminous coal, and waste/other coal.\\n13 \\nRetired coal -fired electric generating units listed in the EIA data are excluded \\nfrom the Coal Closure Category if they have irregular location information.  Taxpayers must coordinate with the EIA to address potential issues related to irregular location information.  \\n(c) Directly Adjoining.  Census tracts are directly adjoining if their boundaries \\ntouch at any single point.  There are many cases where multiple census tracts meet at a single point.  If a closed coal mine or retired coal -fired electric generating unit is located \\nin one of the census tracts, then other census tracts sharing the single point would be considered directly adjoining.  \\n(3) Census tracts in the Coal Closure Category are listed in Appendix C.  \\nSECTION 4. GENERALLY APPLICABLE RULES FOR DETERMINING WHETHER \\nLOCATION REQUIREMENT IS MET  \\n.01 Timing . \\n(1) In General.  Under §§  45 and 45Y, a qualified facility must be “located in” an \\nenergy community, and under §§  48 and 48E an energy project, qualified facility, or \\n \\n13 EIA, Electric Power Annual 2021, November 2022, Technical notes, p. 6, available at \\nhttps://www.eia.gov/electricity/annual/pdf/epa.pdf . ',\n",
       " '12 energy storage technology, as applicable, must be “placed in service” within an energy \\ncommunity, to qualify for the bonus credit amounts or rates.  \\nFor purposes of §§ 45 and 45Y, whether a qualified facility is  located in an \\nenergy community (and thus eligible for the increased credit amounts or rates) is determined separately for each taxable year of the qualified facility’s 10-year credit \\nperiod.  For purposes of §§ 45 and 45Y, a qualified facility is treated as located in an \\nenergy community during a taxable year if it is located in an energy community during \\nany part of the taxable year.  \\nFor purposes of § 48, whether an energy project is placed in service within an \\nenergy community (and thus eligible for the increased credit rates) is determined as of the placed -in-service date (the date the credit is determined).  Similarly, for purposes of \\n§ 48E, whether a qualified facility or energy storage technology is placed in service within an energy community (and thus eligible for the increased credit rates) is determined as of the placed- in-service date (the date the credit is determined).  \\n(2) Special Rule for Beginning of Construction.  For purposes of §§ 45, 45Y, 48, \\nand 48E, if a taxpayer begins construction of an EC Project on or after January 1, 2023,  \\nin a location that is an energy community as of the beginning of construction (BOC) \\ndate, then, with respect to that EC Project, the location will continue to be considered an \\nenergy community for the duration of t he credit period for §§ 45 and 45Y or on the \\nplaced- in-service date for §§ 48 and 48E.  For purposes of determining a BOC date for \\n§§ 45 and 48, the IRS has issued notices under §§ 45 and 48 (collectively, BOC Notices) that provide guidance for determining when construction begins.\\n14  For \\n \\n14 Notice 2013- 29, 2013 -20 I.R.B. 1085; clarified by Notice  2013 -60, 2013- 44 I.R.B. 431; clarified and \\n ',\n",
       " '13 purposes of determining a BOC date under §§ 45Y and 48E, principles similar to those \\nprovided in the BOC Notices apply.  \\n.02 Location.  An EC Project is treated as “located in” or “placed in service within” \\nan energy community, if the EC Project satisfies either the nameplate capacity test \\n(Nameplate Capacity Test as described in section 4.02(1) of this notice) or the square \\nfootage test (Footprint Test as described in section 4.02(2) of this notice).15  An \\nEC Project that has nameplate capacity must apply the Nameplate Capacity Test.  An \\nEC Project that has no nameplate capacity must apply the Footprint Test.  \\n(1) Nameplate Capacity Test .  Under the Nameplate Capacity Test, an \\nEC Project that has nameplate capacity is consi dered located in or placed in service \\nwithin an energy community if 50 percent or more of the EC Project’s nameplate capacity is in an area that qualifies as an energy community.   An EC Project’s \\nnameplate capacity percentage is determined by dividing the nameplate capacity of the \\nEC Project ’s energy -generating units that are located in an energy community by the \\ntotal nameplate capacity of all the energy -generating units of the EC Project . \\n(a) D\\netermining Nameplate Capacity.  Nameplate capacity for an elec trical \\ngenerating unit means the maximum electrical generating output in megawatts (MW) \\nthat the unit is capable of producing on a steady state basis and during continuous \\noperation under standard conditions, as measured by the manufacturer and consistent \\n \\nmodified by Notice  2014 -46, 2014 -36 I.R.B. 520; updated by  Notice  2015- 25, 2015 -13 I.R.B. 814; clarified \\nand modified by  Notice  2016 -31, 2016 -23 I.R.B. 1025; updated, clarified, and modified by  Notice  2017 -\\n04, 2017 -4 I.R.B. 541; Notice  2018- 59, 2018 -28 I.R.B. 196; modified by  Notice  2019 -43, 2019- 31 I.R.B. \\n487; modified by Notice  2020- 41, 2020 -25 I.R.B. 954 ; clarified and modified by  Notice  2021- 5, 2021- 3 \\nI.R.B. 479; clarified and modified by Notice 2021 -41, 2021- 29 I.R.B. 17.  \\n15 Energy communities must be located within the U.S. or a U.S. territory, including American Samoa, \\nGuam, the Commonwealth of the Northern Mariana Islands, the Commonwealth of Puerto Rico, or the \\nU.S. Virgin Islands.  ',\n",
       " '14 with the definition provided in 40 CFR § 96.202.  Energy -generating units that generate \\ndirect current (DC) power before converting to alternating current (AC) (for example,  \\nsolar photovoltaic) should use the nameplate capacity in DC, otherwise the nameplate \\ncapacity in AC should be used.  For energy storage devices, the nameplate or maximum rated capacity means the storage device’s usable energy capacity (MWh).  \\nUsable energy capacity is the electric storage device capacity (in MW) multiplied by the \\ndurati on hours of that storage capacity (h).  Where applicable, the International \\nStandard Organization (ISO) conditions are used to measure the maximum electrical \\ngenerating output or usable energy capacity.  \\n(b) Nameplate Capacity Attribution Rule.  If an EC Pr oject with offshore energy \\ngeneration units has nameplate capacity but none of the EC Project’s energy -\\ngenerating units are in a census tract, MSA, or non-MSA, then the Nameplate Capacity \\nTest for such EC Project is applied by attributing all the nameplate  capacity of such \\nEC Project to the land -based power conditioning equipment that conditions energy \\ngenerated by the EC Project for transmission, distribution, or use and that is closest to the point of interconnection.  \\n(c) E\\nxample.  A qualified offshore wi nd facility (Project) with 500 MW nameplate \\ncapacity is located on the outer continental shelf.  The taxpayer that owns the Project (Taxpayer) elects under § 48(a)(5) to treat the Project as energy property and to claim a \\n§ 48 credit.  None of the Project’ s energy -generating units with nameplate capacity are \\nin a census tract, MSA, or non -MSA.  The onshore substation that conditions the \\nProject’s generated electricity for transmission, distribution, or use and that is located nearest to the point of land-ba sed interconnection is located in an energy community.  ',\n",
       " '15 Taxpayer may attribute the Project’s nameplate capacity to that onshore substation \\nunder the Nameplate Capacity Attribution Test.  As a result, if the Project otherwise \\nmeets the requirements for the § 48 credit, the taxpayer may claim an increased credit \\nrate pursuant to § 48(a)(14)(A) for the Project.  \\n(2) Footprint Test.  If an EC Project does not have a nameplate capacity (for \\nexample,  qualified biogas property), such EC Project applies the Footprint Test.  Such \\nan EC Project is considered located in or placed in service within an energy community if 50 percent or more of its square footage is in an area that qualifies as an energy \\ncommunity.  This percentage is determined by dividing the square footage of the \\nEC Project that is located in an energy community by the total square footage of the \\nEC Project. \\nSECTION 5. SAFE HARBOR FOR BROWNFIELD SITES  \\n.01 In General .  The IRS will accept that a site meets the definition of a \\nbrownfield site under 42 U.S.C. § 9601(39)(A) if it satisfies at least one of the conditions \\ndescribed in section 5.02 of this notice and the site is not described in 42 U.S.C. \\n§ 9601(39)(B).  \\n.02 S afe Harbor.  The  conditions described in this paragraph are as follows:  \\n(1) The site was previously assessed through federal, state, territory, or federally \\nrecognized Indian tribal brownfield resources as meeting the definition of a brownfield site under 42 U.S.C. § 9601(39)(A).  Potential site lists may be found under the category \\nof Brownfields Properties on the EPA’s Cleanups in My Community webpage or on similar webpages maintained by states, territories, or for federally recognized Indian ',\n",
       " '16 tribes;16 \\n(2) An ASTM E1903 Phase II Environmental Site Assessment (Phase II \\nAssessment) has bee n completed with respect to the site in accordance with the most \\ncurrent applicable version of the Standard Practice for Environmental Site \\nAssessments: Phase II Environmental Site Assessment Process of ASTM International \\nand such Phase II Assessment confirms the presence on the site of a hazardous \\nsubstance as defined under 42 U.S.C. § 9601(14), or a pollutant or contaminant as defined under 42 U.S.C. § 9601(33); or  \\n(3) For projects with a nameplate capacity of not greater than 5MW (AC), an \\nASTM E1527 Phase I Environmental Site Assessment (Phase I Assessment) has been completed with respect to the site in accordance with the most current applicable \\nversion of the Standard Practice for Environmental Site Assessments: Phase I \\nEnvironmental Site Assessment Process of ASTM International.  \\nSECTION 6. SUBSTANTIATION  \\nA taxpayer claiming the increased credit amount or rate for meeting energy \\ncommunity bonus credit requirements must meet the general recordkeeping requirements under § 6001 in order to substantiate that an EC Project is located in or \\nhas been placed in service in an energy community.  Section 6001 provides that every person liable for any tax imposed by the Code, or for the collection thereof, must keep such records as the Secretary may from time to time prescribe.  Section 1.6001- 1(a) \\nprovides that any per son subject to income tax must keep such permanent books of \\naccount or records as are sufficient to establish the amount of gross income, \\n \\n16 Available at https://java.epa.gov/acrespub/stvrp/ . ',\n",
       " '17 deductions, credits, or other matters required to be shown by such person in any return \\nof such tax.  Section 1.6001-1 (e) provides that the books and records required by \\n§ 1.6001 -1 must be retained so long as the contents thereof may become material in \\nthe administration of any internal revenue law.  \\nSECTION 7. SUBMISSION OF PUBLIC COMMENTS REGARDING FOSSIL FUEL \\nTAX REVENU E \\n \\n.01 Written comments addressing the possible data sources, revenue categories, \\nand procedures to determine whether an MSA or non-MSA qualifies under the \\nStatistical Area Category based on Fossil Fuel Tax Revenue (as described in section 3.03(4) of this notice) should be submitted by May 4, 2023.  The subject line for the \\ncomments should include a reference to Notice 2023- 29.  Comments may be submitted \\nin one of two ways:  \\n(1) Electronically via the Federal eRulemaking Portal at www.regulations.gov\\n \\n(type IRS -2023- 29 in the search field on the regulations.gov homepage to find this \\nnotice and submit comments).  \\n(2) Alternatively, by mail to: Internal Revenue Service, CC:PA:LPD:PR (Notice \\n2023- 29), Room 5203, P.O. Box 7604, Ben Franklin Station, Washington, DC 20044.  \\n.02 All commenters are strongly encouraged to submit comments electronically.  \\nThe Treasury Department and the IRS will publish for public availability any comment submitted electronically, or on paper, to its public docket on regulations.gov.  \\nSECTION 8. DRAFTING INFORMATION  \\nThe principal author of this notice is the Office of Associate Chief Counsel \\n(Passthroughs & Special Industries).  However, other personnel from the Treasury \\nDepartment and the IRS p articipated in its development.  For further information ',\n",
       " '18 regarding this notice, call the energy security guidance contact number at (202) 317-\\n5254 (not a toll -free call).  ']"
      ]
     },
     "execution_count": 40,
     "metadata": {},
     "output_type": "execute_result"
    }
   ],
   "source": [
    "data=pdf_docs(r'C:\\Users\\DELL\\Documents\\GEN-AI-LABS\\Storing_pdfs_in_vectordatabase\\data_pdfs\\Energy Communities.pdf')\n",
    "data"
   ]
  },
  {
   "cell_type": "code",
   "execution_count": 12,
   "metadata": {},
   "outputs": [
    {
     "data": {
      "text/plain": [
       "[' \\n \\n \\n Part III - Administrative, Procedural, and Miscellaneous  \\n \\n  \\n \\nEnergy Community Bonus Credit Amounts under the Inflation Reduction Act of 2022  \\n \\n \\n \\nNotice 2023 -29 \\n  \\nSECTION 1. PURPOSE  \\nThe Department of the Treasury (Treasury Department) and the Internal \\nRevenue Service (IRS) intend to propose regulations (forthcoming proposed \\nregulations) addressing the application of the rules that taxpayers must satisfy to qualify \\nfor the ener gy community bonus credit under §§ 45, 45Y, 48, and 48E of the Internal \\nRevenue Code (Code).\\n1  Public Law 117 -169, 136 Stat. 1818 (August 16, 2022), \\ncommonly known as the Inflation Reduction Act of 2022 (IRA), amends §§ 45 and 48 to \\nprovide increased cred it amounts or rates if certain requirements pertaining to energy \\ncommunities are satisfied, and adds new §§ 45Y and 48E, which provide increased \\ncredit amounts or rates for certain qualified facilities, energy projects, or energy storage \\ntechnologies that satisfy similar requirements and that are placed in service after \\nDecember 31, 2024.2  This notice describes certain rules that the Treasury Department \\n \\n1 Unless otherwise specified, all “section” or “§” references are to sections of the Code or the Income Tax \\nRegulations (26 CFR part 1).  \\n2 See §  13101(g) of the IRA for the energy community provisions under § 45(b)(11), § 13102(o) of the IRA \\nfor the energy community provisions under § 48(a)(14), § 13701(a) of the IRA for the energy community \\nprovisions under § 45Y(g)(7), and §  13702(a) of the IRA for the energy community provisions under \\n§ 48E(a)(3)(A).  ',\n",
       " '2 and the IRS intend to include in the forthcoming proposed regulations for determining \\nwhat constitutes an energy community as defined in § 45(b)(11)(B) and as adopted by \\n§§ 45Y(g)(7), 48(a)(14), and 48E(a)(3)(A) and for determining  whether a qualified \\nfacility, an energy project, or an energy storage technology is located in an energy community.  The Treas ury Department and the IRS also intend to propose that the \\nregulations will apply to taxable years ending after April 4, 2023.  Until the issuance of the forthcoming proposed regulations, taxpayers may rely on the rules described in \\nsections 3 through 6 of  this notice.  \\nSECTION 2. BACKGROUND  \\nFor purposes of this notice, an “EC Project” refers to:  \\n(1) a qualified facility eligible for a credit determined under § 45 (§ 45 credit) or \\ndetermined under § 45Y (§  45Y credit) that is located in an energy community;  \\n(2) an energy project eligible for a credit determined under § 48 (§ 48 credit), \\nwhich may include qualified property for which a taxpayer has made a valid irrevocable \\nelection under § 48(a)(5) to treat such qualified property as energy property under § 48 , \\nthat is placed in service within an energy community; or  \\n(3) a qualified investment with respect to a qualified facility or an energy storage \\ntechnology eligible for a credit determined under § 48E (§ 48E credit) that is placed in \\nservice within an energy community.  \\nSections 45(b)(11), 48(a)(14), 45Y(g)(7), and 48E(a)(3)(A) provide the energy \\ncommunity bonus credit requirements that taxpayers must satisfy to qualify EC Projects \\nfor increased credit amounts or rates under those provisions of the Code.   Section \\n45(b)(11)(A) provides that in the case of a qualified facility located in an energy ',\n",
       " '3 community, the § 45 credit (determined after the application of § 45(b)(1) through (10), \\nwithout the application of § 45(b)(9) (domestic content bonus credit amount)) is \\nincreased by 10 percent.  Section 45Y(g)(7) provides a similar rule with respect to a \\nqualified facility that is eligible for a § 45Y credit.  \\nSection 48(a)(14) provides that in the case of an energy project placed in service \\nwithin an energy commun ity, the energy percentage used to determine the rate of the \\n§ 48 credit is increased by 2 percentage points.  Section 48E(a)(3)(A) provides a similar \\nrule for qualified investments with respect to a qualified facility or energy storage \\ntechnology eligible  for a § 48E credit that is placed in service within an energy \\ncommunity.  In the case of a taxpayer also satisfying the prevailing wage and \\napprenticeship requirements (described in §§ 48(a)(10) and (11) and 48E(d)(3) and (4)) \\nor meeting one of the other project requirements (described in §§ 48(a)(9)(B) and \\n48E(a)(2)(A)(ii) and (2)(B)(ii)), the rate of the §  48 credit or § 48E credit, as applicable, \\nis increased by 10 percentage points.3 \\nOn October 24, 2022, the Treasury Department and the IRS published N otice \\n2022- 51, 2022 -43 I.R.B. 331, requesting comments on bonus credit amounts enacted \\nby the IRA, including the energy community bonus credit provisions.  Section 3.04 of \\nNotice 2022 -51 specifically requested comments on whether clarification is needed fo r \\nthe requirement that a facility be “located in” an energy community; the sources of \\ninformation that the Treasury Department and the IRS should consider to determine \\nmetropolitan statistical areas (MSAs) and non-metropolitan statistical areas (non-MSAs) \\n \\n3 Notice 2022- 61 (published in 87 FR 73580 (November 30, 2022) as corrected in 87 FR 75141 \\n(December 7, 2022); 2022 -52 I.R.B. 560 (December 27, 2022) provides guidance with respect to the \\nprevailing wage and apprenticeship requirements.  ',\n",
       " '4 (including to determine whether an MSA or non-MSA has met the threshold for direct \\nemployment or local tax revenue related to the extraction, processing, transport, or \\nstorage of coal, oil, or natural gas) and to determine which “census tracts” (as defined  \\nby the U.S. Census Bureau (Census Bureau)) had a coal mine closure or coal -fired \\nelectric generating unit retirement in the relevant time periods; and whether any changes to the definition, scope, boundary, or status of a brownfield site, an MSA or \\nnon-MS A, or a census tract should be considered during the relevant credit period.  \\nComments received in response to Notice 2022- 51 were considered in the drafting of \\nthis notice.  \\nSECTION 3. ENERGY COMMUNITY CATEGORIES  \\n.01 In General.  Section 45(b)(11)(B) identifies the following location- based \\ncategories of energy communities for purposes of §§ 45, 45Y, 48, and 48E:  \\n(1) B rownfield Category.  This category includes a brownfield site (as defined in \\n§ 101(39)(A), (B), and (D)(ii)(III) of the Comp rehensive Environmental Response, \\nCompensation, and Liability Act of 1980 (CERCLA) (42 U.S.C. § 9601(39)).  See section 3.02 of this notice for a description of this category of energy community, which this notice refers to as the “Brownfield Category.”  \\n(2) S\\ntatistical Area Category.  This category includes an MSA or non- MSA that: \\n(i) has (or had at any time after December 31, 2009) 0.17 percent or greater direct employment (Fossil Fuel Employment) or 25 percent or greater local tax revenues \\n(Fossil Fuel Tax Revenue) related to the extraction, processing, transport, or storage of \\ncoal, oil, or natural gas (as determined by the Secretary of the Treasury or her delegate (Secretary)), and (ii) has an unemployment rate at or above the national average ',\n",
       " '5 unemployment rate for the previous year (as determined by the Secretary).  See section \\n3.03 of this notice for a description of this category of energy community, which this \\nnotice refers to as the “Statistical Area Category.”  \\n(3) Coal Closure Category.  This category includes a census tract (or a census \\ntract directly adjoining such census tract): (i) in which a coal mine has closed after December 31, 1999, or (ii)  in which a coal -fired electric generating unit has been retired \\nafter December 31, 2009.  See section 3.04 of this notice for a description of this \\ncategory of energy community, which this notice refers to as the “Coal Closure \\nCategory.”  \\n.02 B\\nrownfield Category .  A brownfield site for purposes of the Brownfield \\nCategory is defined in 42 U.S.C. § 9601(39)(A ) as real property, the expansion, \\nredevelopment, or reuse of which may be complicated by the presence or potential \\npresence of a hazardous substance, pollutant, or contaminant (as defined under 42 U.S.C. §  9601) and certain mine-scarred land (as defined in 42 U.S.C. \\n§ 9601(39)(D)(ii)(III)).  A brownfield site does not include the categories of property \\ndescribed in 42 U.S.C. § 9601(39)(B).  \\n.03 S\\ntatistical Area Category . \\n(1) In General.  The Statistical Area Category includes MSAs and non-MSAs. \\n(a) Determin ation of MSAs .  In general, MSAs are groups of counties or county -\\nequivalents that are grouped according to standards determined by the Office of \\nManagement and Budget (OMB), within the Executive Office of the President.  The \\nOMB updates these standards every 10 years in accordance with the decennial census of the United States.  MSA delineations provided by OMB in Bulletin No. 18- 03 (April 18, ',\n",
       " '6 2018) are used for all purposes of this notice.  These delineations reflect the OMB \\nStandards for Delineating Core Based Statistical Areas for the 2010 Decennial Census.4 \\n(b) Determination of non-MSAs .  In general, non-MSAs are defined as \\nnonmetropolitan areas as identified in the May 2021 Metropolitan and Nonmetropolitan Area Definitions\\n5 published by the Occupational Employment and Wages Statistics \\ndivision of the U.S. Bureau of Labor Statistics (BLS).  The BLS works in conjunction with individual states to determine nonmetropolitan area definitions.  MSAs are first delineated, and then counties outside of MSAs are grouped together as \\nnonmetropolitan areas.  For purposes of this notice, the boundaries of non-MSAs in the states of Connecticut, Maine, Massachusetts, New Hampshire, Rhode Island, and Vermont have been determined according to the boundaries of counties in a \\nBLS-defined nonmetropolitan area that have no portion in a MSA.\\n6  For each of the \\nIsland Territories of American Samoa, Guam, the Commonwealth of the Northern \\nMariana Islands, and the U.S. Virgin Islands, the whole territory is grouped as one non-\\nMSA.   Appendix A contains the delineations of MSAs and non -MSAs that are used for \\nall purposes of this notice.  \\n(2) Fossil Fuel Employment.  For purposes of determining whether an MSA or \\nnon-MSA is in the Statistical Area Category based on Fossil Fuel Employment, the \\nrelevant direct employment is determined by the number of people employed in the industries identified below by 2017 North American Industry Classification System \\n \\n4 See 2010 Standards for Delineating Metropolitan and Micropolitan Statist ical Areas , 75 FR 37245 (June \\n28, 2010), available at: https://www.federalregister.gov/documents/ 2010/06/28/2010 -15605/2010 -\\nstandards -for-delineating -metropolitan- and-micropolitan -statistical- areas . \\n5 Available at May 2021 OEWS Metropolitan and Nonmetropolitan Area Definitions (bls.gov) . \\n6 The boundaries of counties are defined in the 2020 TIGER/Line Geodatabases as defined by the \\nCensus Bureau.  ',\n",
       " '7 (NAICS) industry code7: \\n2017 NAICS code  Description  \\n211 Oil and Gas Extraction  \\n2121  Coal Mining  \\n213111  Drilling Oil and Gas Wells  \\n213112  Support Activities for Oil and Gas Operations  \\n213113  Support Activities for Coal Mining  \\n32411  Petroleum Refineries  \\n4861  Pipeline Transportation of Crude Oil  \\n4862  Pipeline Transportation of Natural Gas  \\n \\nThe Fossil Fuel Employment rate is determined as the number of people \\nemployed in the industries identified by the 2017 NAICS codes specified above and as \\nlisted in the annual County Files of the County Business Patterns (CBP) published by \\nthe Census Bureau,8 divided by the total number of people employed in that area.  The \\nFossil Fuel Employment and total employment for each county in an MSA or non-MSA is aggregated for each year to determine whether the MSA or non-MSA meets the \\nFossil Fuel Employment threshold of 0.17 percent.  The list of MSAs and non -MSAs (by \\ncounty) that have (or had any time after December 31, 2009) 0.17 percent or greater direct employment related to the extraction, processing, transportati on, or storage of \\ncoal, oil, or natural gas is available in Appendix  B. \\n(3) Unemployment Rate.  For purposes of determining whether an MSA and non-\\nMSA has an unemployment rate at or above the national average unemployment rate for the previous year, the unemployment rates are determined using the Local Area \\nUnemployment Statistics (LAUS) annual data for counties from the BLS\\n9 and the \\n \\n7 Available at https://www.census.gov/naics/reference_files_tools/2017_NAICS_Manual.pdf . \\n8 Available at CBP Datasets (https://www.census.gov/programs -surveys/cbp/data/datasets.html) . \\n9 BLS Local Area Unemployment Statistics (LAUS) data  for counties is available at \\nhttps://www.bls.gov/lau . ',\n",
       " '8 comparison is made using unemployment rates for the previous calendar year.  The \\ncounty tables report the total number of individuals in the labor force and the total \\nnumber unemployed.  These amounts are then summed for each county within an MSA \\nor non -MSA to determine the total labor force and total number of unemployed \\nindividuals.  The unemployment rate is calculated by div iding the total number of \\nunemployed individuals within the MSA or non-MSA by the total labor force.  \\nAnnual unemployment rates for a calendar year generally are released in April of \\nthe following calendar year.  The Treasury Department and the IRS intend t o issue a \\nlisting identifying the MSAs and non-MSAs that qualify in the Statistical Area Category \\nbased on Fossil Fuel Employment after the unemployment data for 2022 becomes available.  The Treasury Department and the IRS intend to update the listing of t he \\nStatistical Area Category based on Fossil Fuel Employment annually.  These updates \\ngenerally will be issued annually in May.  The first listing of the Statistical Area Category \\nbased on Fossil Fuel Employment will apply to the period beginning on Januar y 1, 2023.  \\nEach subsequent annual release will determine the MSAs and non-MSAs that will \\nqualify under the Statistical Area Category based on Fossil Fuel Employment for the 12-\\nmonth period starting in May through April of the following year.  For example,  the \\nenergy communities defined by the 2022 unemployment rates will be designated in May \\nof 2023 and will remain in place until the next update, which would likely be in May 2024 \\nafter the necessary data becomes available.  The update in May 2024 will use 2023 \\nannual unemployment data and will remain in place until the next update, likely in May 2025.  This approach is used because of the lag in availability of annual county \\nunemployment rates.  ',\n",
       " '9 (4) Fossil Fuel Tax Revenue.  The Statistical Area Category may  include MSAs \\nor non -MSAs based on Fossil Fuel Tax Revenue.  Determining the level of Fossil Fuel \\nTax Revenue for an MSA or non-MSA presents certain data challenges because such \\ndata is not readily available from public sources, MSAs and non-MSAs may cover  \\nmultiple localities that are sometimes, in the case of MSAs, located in different states, \\nand each locality may have a different local tax regime.  The Treasury Department and \\nthe IRS invite public comments addressing the possible data sources, revenue categories, and procedures to determine whether an MSA or non-MSA qualifies under \\nthe Statistical Area Category based on Fossil Fuel Tax Revenue.  \\n.04 C\\noal Closure Category . \\n(1) Census Tracts .  The Census Bureau defines census tracts as relatively \\npermanent s mall-area geographic divisions of a county or statistically equivalent entity \\ndefined for the tabulation and presentation of data from the decennial census and selected other statistical programs.\\n10  For purposes of determining whether a census \\ntract is an  energy community, the term census tract is defined and delineated by the \\nCensus Bureau for purposes of the 2020 Decennial Census (as described in 83 FR 56277).\\n11 \\n(2) Other Definitions Pertaining to Coal Closure Category . \\n(a) Closed Coal Mine.  The term cl osed coal mine means a coal mine classified \\nas a surface or underground mine that has ever had for any period of time, since \\n \\n10 Census Tracts for the 2020 Census —Final Criteria , 83 FR 56277 (November 13, 20218), available at: \\nhttps://www.federalregister.gov/documents/2018/11/13/2018- 24567/census -tracts -for-the-2020- census -\\nfinal-criteria . \\n11 The boundaries of the 2020 census tracts are defined in the 2020 TIGER/Line Geodatabases as \\ndefined by the Census Bureau.  ',\n",
       " \"10 December 31, 1999, a mine status of abandoned or abandoned and sealed by the U.S. \\nDepartment of Labor's Mine Safety and Health Admi nistration (MSHA) in the Mine Data \\nRetrieval System (MDRS).  Closed coal mines listed in the MSHA MDRS are excluded from the Coal Closure Category if they have irregular location information.  This includes closed coal mines with listed latitude and longitude coordinates that do not \\nplace the mines in the listed county and state, and mines with latitude and longitude \\ncoordinates that only extend to the tenths place.  Taxpayers with evidence to correct irregular location information of coal mines abandoned or abandoned and sealed since \\nDecember 31, 1999, may provide that evidence to the MSHA.  In the event that data \\ncorrections are verified by the MSHA, the IRS will include this correction in an annual ministerial notice.  The MSHA will not determine tax cred it eligibility.  \\n(b) Retired Coal -Fired Electric Generating Unit.  The term retired coal -fired \\nelectric generating unit means an electric generating unit classified as retired at any time since December 31, 2009, by the U.S. Energy Information Administration (EIA) of \\nthe U.S. Department of Energy in the Preliminary Monthly Electric Generator Inventory \\n(EIA Form 860M) or the Electric Generator Inventory (EIA Form 860).\\n12  At the time of \\nbeing listed as retired, the generating unit must be characterized as a c oal-fired electric \\ngenerating unit.  \\nAn electric generating unit is a coal -fired generating unit according to its \\nclassification in the EIA data.  An electric generating unit is a generating unit if it is \\nclassified in the Preliminary Monthly Electric Generator Inventory (EIA Form 860M) for \\n \\n12 A coal -fired electric generating unit may operate in a plant with multiple such units.  A retirement after \\nDecember 31, 2009, of a single coal -fired electric generating unit in such a plant would cause the census \\ntract in which such retired unit is located to be included in the Coal Closure Category.  \",\n",
       " '11 years 2016 to 2022 or the Electric Generator Inventory (EIA Form 860) for years 2010 \\nto 2015.  For years 2014 to 2022, coal -fired electric generating units are those listed in \\nEIA Form 860M or EIA Form 860 data as having a “Technology” of “Conventional \\nSteam Coal” or “Coal Integrated Gasification Combined Cycle.”  For years 2010 to \\n2013, coal -fired electric generating units are those listed in EIA Form 860 data as \\nhaving a primary fuel source code of anthracite coal, bituminous coal, lignite coal, refined coal, coal -derived synthesis gas, subbituminous coal, and waste/other coal.\\n13 \\nRetired coal -fired electric generating units listed in the EIA data are excluded \\nfrom the Coal Closure Category if they have irregular location information.  Taxpayers must coordinate with the EIA to address potential issues related to irregular location information.  \\n(c) Directly Adjoining.  Census tracts are directly adjoining if their boundaries \\ntouch at any single point.  There are many cases where multiple census tracts meet at a single point.  If a closed coal mine or retired coal -fired electric generating unit is located \\nin one of the census tracts, then other census tracts sharing the single point would be considered directly adjoining.  \\n(3) Census tracts in the Coal Closure Category are listed in Appendix C.  \\nSECTION 4. GENERALLY APPLICABLE RULES FOR DETERMINING WHETHER \\nLOCATION REQUIREMENT IS MET  \\n.01 Timing . \\n(1) In General.  Under §§  45 and 45Y, a qualified facility must be “located in” an \\nenergy community, and under §§  48 and 48E an energy project, qualified facility, or \\n \\n13 EIA, Electric Power Annual 2021, November 2022, Technical notes, p. 6, available at \\nhttps://www.eia.gov/electricity/annual/pdf/epa.pdf . ',\n",
       " '12 energy storage technology, as applicable, must be “placed in service” within an energy \\ncommunity, to qualify for the bonus credit amounts or rates.  \\nFor purposes of §§ 45 and 45Y, whether a qualified facility is  located in an \\nenergy community (and thus eligible for the increased credit amounts or rates) is determined separately for each taxable year of the qualified facility’s 10-year credit \\nperiod.  For purposes of §§ 45 and 45Y, a qualified facility is treated as located in an \\nenergy community during a taxable year if it is located in an energy community during \\nany part of the taxable year.  \\nFor purposes of § 48, whether an energy project is placed in service within an \\nenergy community (and thus eligible for the increased credit rates) is determined as of the placed -in-service date (the date the credit is determined).  Similarly, for purposes of \\n§ 48E, whether a qualified facility or energy storage technology is placed in service within an energy community (and thus eligible for the increased credit rates) is determined as of the placed- in-service date (the date the credit is determined).  \\n(2) Special Rule for Beginning of Construction.  For purposes of §§ 45, 45Y, 48, \\nand 48E, if a taxpayer begins construction of an EC Project on or after January 1, 2023,  \\nin a location that is an energy community as of the beginning of construction (BOC) \\ndate, then, with respect to that EC Project, the location will continue to be considered an \\nenergy community for the duration of t he credit period for §§ 45 and 45Y or on the \\nplaced- in-service date for §§ 48 and 48E.  For purposes of determining a BOC date for \\n§§ 45 and 48, the IRS has issued notices under §§ 45 and 48 (collectively, BOC Notices) that provide guidance for determining when construction begins.\\n14  For \\n \\n14 Notice 2013- 29, 2013 -20 I.R.B. 1085; clarified by Notice  2013 -60, 2013- 44 I.R.B. 431; clarified and \\n ',\n",
       " '13 purposes of determining a BOC date under §§ 45Y and 48E, principles similar to those \\nprovided in the BOC Notices apply.  \\n.02 Location.  An EC Project is treated as “located in” or “placed in service within” \\nan energy community, if the EC Project satisfies either the nameplate capacity test \\n(Nameplate Capacity Test as described in section 4.02(1) of this notice) or the square \\nfootage test (Footprint Test as described in section 4.02(2) of this notice).15  An \\nEC Project that has nameplate capacity must apply the Nameplate Capacity Test.  An \\nEC Project that has no nameplate capacity must apply the Footprint Test.  \\n(1) Nameplate Capacity Test .  Under the Nameplate Capacity Test, an \\nEC Project that has nameplate capacity is consi dered located in or placed in service \\nwithin an energy community if 50 percent or more of the EC Project’s nameplate capacity is in an area that qualifies as an energy community.   An EC Project’s \\nnameplate capacity percentage is determined by dividing the nameplate capacity of the \\nEC Project ’s energy -generating units that are located in an energy community by the \\ntotal nameplate capacity of all the energy -generating units of the EC Project . \\n(a) D\\netermining Nameplate Capacity.  Nameplate capacity for an elec trical \\ngenerating unit means the maximum electrical generating output in megawatts (MW) \\nthat the unit is capable of producing on a steady state basis and during continuous \\noperation under standard conditions, as measured by the manufacturer and consistent \\n \\nmodified by Notice  2014 -46, 2014 -36 I.R.B. 520; updated by  Notice  2015- 25, 2015 -13 I.R.B. 814; clarified \\nand modified by  Notice  2016 -31, 2016 -23 I.R.B. 1025; updated, clarified, and modified by  Notice  2017 -\\n04, 2017 -4 I.R.B. 541; Notice  2018- 59, 2018 -28 I.R.B. 196; modified by  Notice  2019 -43, 2019- 31 I.R.B. \\n487; modified by Notice  2020- 41, 2020 -25 I.R.B. 954 ; clarified and modified by  Notice  2021- 5, 2021- 3 \\nI.R.B. 479; clarified and modified by Notice 2021 -41, 2021- 29 I.R.B. 17.  \\n15 Energy communities must be located within the U.S. or a U.S. territory, including American Samoa, \\nGuam, the Commonwealth of the Northern Mariana Islands, the Commonwealth of Puerto Rico, or the \\nU.S. Virgin Islands.  ',\n",
       " '14 with the definition provided in 40 CFR § 96.202.  Energy -generating units that generate \\ndirect current (DC) power before converting to alternating current (AC) (for example,  \\nsolar photovoltaic) should use the nameplate capacity in DC, otherwise the nameplate \\ncapacity in AC should be used.  For energy storage devices, the nameplate or maximum rated capacity means the storage device’s usable energy capacity (MWh).  \\nUsable energy capacity is the electric storage device capacity (in MW) multiplied by the \\ndurati on hours of that storage capacity (h).  Where applicable, the International \\nStandard Organization (ISO) conditions are used to measure the maximum electrical \\ngenerating output or usable energy capacity.  \\n(b) Nameplate Capacity Attribution Rule.  If an EC Pr oject with offshore energy \\ngeneration units has nameplate capacity but none of the EC Project’s energy -\\ngenerating units are in a census tract, MSA, or non-MSA, then the Nameplate Capacity \\nTest for such EC Project is applied by attributing all the nameplate  capacity of such \\nEC Project to the land -based power conditioning equipment that conditions energy \\ngenerated by the EC Project for transmission, distribution, or use and that is closest to the point of interconnection.  \\n(c) E\\nxample.  A qualified offshore wi nd facility (Project) with 500 MW nameplate \\ncapacity is located on the outer continental shelf.  The taxpayer that owns the Project (Taxpayer) elects under § 48(a)(5) to treat the Project as energy property and to claim a \\n§ 48 credit.  None of the Project’ s energy -generating units with nameplate capacity are \\nin a census tract, MSA, or non -MSA.  The onshore substation that conditions the \\nProject’s generated electricity for transmission, distribution, or use and that is located nearest to the point of land-ba sed interconnection is located in an energy community.  ',\n",
       " '15 Taxpayer may attribute the Project’s nameplate capacity to that onshore substation \\nunder the Nameplate Capacity Attribution Test.  As a result, if the Project otherwise \\nmeets the requirements for the § 48 credit, the taxpayer may claim an increased credit \\nrate pursuant to § 48(a)(14)(A) for the Project.  \\n(2) Footprint Test.  If an EC Project does not have a nameplate capacity (for \\nexample,  qualified biogas property), such EC Project applies the Footprint Test.  Such \\nan EC Project is considered located in or placed in service within an energy community if 50 percent or more of its square footage is in an area that qualifies as an energy \\ncommunity.  This percentage is determined by dividing the square footage of the \\nEC Project that is located in an energy community by the total square footage of the \\nEC Project. \\nSECTION 5. SAFE HARBOR FOR BROWNFIELD SITES  \\n.01 In General .  The IRS will accept that a site meets the definition of a \\nbrownfield site under 42 U.S.C. § 9601(39)(A) if it satisfies at least one of the conditions \\ndescribed in section 5.02 of this notice and the site is not described in 42 U.S.C. \\n§ 9601(39)(B).  \\n.02 S afe Harbor.  The  conditions described in this paragraph are as follows:  \\n(1) The site was previously assessed through federal, state, territory, or federally \\nrecognized Indian tribal brownfield resources as meeting the definition of a brownfield site under 42 U.S.C. § 9601(39)(A).  Potential site lists may be found under the category \\nof Brownfields Properties on the EPA’s Cleanups in My Community webpage or on similar webpages maintained by states, territories, or for federally recognized Indian ',\n",
       " '16 tribes;16 \\n(2) An ASTM E1903 Phase II Environmental Site Assessment (Phase II \\nAssessment) has bee n completed with respect to the site in accordance with the most \\ncurrent applicable version of the Standard Practice for Environmental Site \\nAssessments: Phase II Environmental Site Assessment Process of ASTM International \\nand such Phase II Assessment confirms the presence on the site of a hazardous \\nsubstance as defined under 42 U.S.C. § 9601(14), or a pollutant or contaminant as defined under 42 U.S.C. § 9601(33); or  \\n(3) For projects with a nameplate capacity of not greater than 5MW (AC), an \\nASTM E1527 Phase I Environmental Site Assessment (Phase I Assessment) has been completed with respect to the site in accordance with the most current applicable \\nversion of the Standard Practice for Environmental Site Assessments: Phase I \\nEnvironmental Site Assessment Process of ASTM International.  \\nSECTION 6. SUBSTANTIATION  \\nA taxpayer claiming the increased credit amount or rate for meeting energy \\ncommunity bonus credit requirements must meet the general recordkeeping requirements under § 6001 in order to substantiate that an EC Project is located in or \\nhas been placed in service in an energy community.  Section 6001 provides that every person liable for any tax imposed by the Code, or for the collection thereof, must keep such records as the Secretary may from time to time prescribe.  Section 1.6001- 1(a) \\nprovides that any per son subject to income tax must keep such permanent books of \\naccount or records as are sufficient to establish the amount of gross income, \\n \\n16 Available at https://java.epa.gov/acrespub/stvrp/ . ',\n",
       " '17 deductions, credits, or other matters required to be shown by such person in any return \\nof such tax.  Section 1.6001-1 (e) provides that the books and records required by \\n§ 1.6001 -1 must be retained so long as the contents thereof may become material in \\nthe administration of any internal revenue law.  \\nSECTION 7. SUBMISSION OF PUBLIC COMMENTS REGARDING FOSSIL FUEL \\nTAX REVENU E \\n \\n.01 Written comments addressing the possible data sources, revenue categories, \\nand procedures to determine whether an MSA or non-MSA qualifies under the \\nStatistical Area Category based on Fossil Fuel Tax Revenue (as described in section 3.03(4) of this notice) should be submitted by May 4, 2023.  The subject line for the \\ncomments should include a reference to Notice 2023- 29.  Comments may be submitted \\nin one of two ways:  \\n(1) Electronically via the Federal eRulemaking Portal at www.regulations.gov\\n \\n(type IRS -2023- 29 in the search field on the regulations.gov homepage to find this \\nnotice and submit comments).  \\n(2) Alternatively, by mail to: Internal Revenue Service, CC:PA:LPD:PR (Notice \\n2023- 29), Room 5203, P.O. Box 7604, Ben Franklin Station, Washington, DC 20044.  \\n.02 All commenters are strongly encouraged to submit comments electronically.  \\nThe Treasury Department and the IRS will publish for public availability any comment submitted electronically, or on paper, to its public docket on regulations.gov.  \\nSECTION 8. DRAFTING INFORMATION  \\nThe principal author of this notice is the Office of Associate Chief Counsel \\n(Passthroughs & Special Industries).  However, other personnel from the Treasury \\nDepartment and the IRS p articipated in its development.  For further information ',\n",
       " '18 regarding this notice, call the energy security guidance contact number at (202) 317-\\n5254 (not a toll -free call).  ']"
      ]
     },
     "execution_count": 12,
     "metadata": {},
     "output_type": "execute_result"
    }
   ],
   "source": [
    "text_list"
   ]
  },
  {
   "cell_type": "code",
   "execution_count": 20,
   "metadata": {},
   "outputs": [
    {
     "name": "stdout",
     "output_type": "stream",
     "text": [
      "[1, 2, 3, 4, 5, 6, 7, 8, 9, 10, 11, 12, 13, 14, 15, 16, 17, 18]\n",
      "['1', '2', '3', '4', '5', '6', '7', '8', '9', '10', '11', '12', '13', '14', '15', '16', '17', '18']\n"
     ]
    }
   ],
   "source": [
    "page_number_id=list(range(1,19))\n",
    "print(page_number_id)\n",
    "page_number_id = [str(i) for i in page_number_id]\n",
    "print(page_number_id)"
   ]
  },
  {
   "cell_type": "code",
   "execution_count": 9,
   "metadata": {},
   "outputs": [],
   "source": [
    "import chromadb\n",
    "import chromadb.utils.embedding_functions as embedding_functions\n",
    "\n",
    "openai_ef= embedding_functions.OpenAIEmbeddingFunction(api_key='',model_name=\"text-embedding-ada-002\")"
   ]
  },
  {
   "cell_type": "code",
   "execution_count": 10,
   "metadata": {},
   "outputs": [],
   "source": [
    "cindex= chromadb.PersistentClient(path=\"vectordata/\")\n",
    "\n",
    "index= cindex.get_or_create_collection(name=\"pdf_one\",embedding_function=openai_ef)\n",
    "\n"
   ]
  },
  {
   "cell_type": "code",
   "execution_count": 11,
   "metadata": {},
   "outputs": [
    {
     "data": {
      "text/plain": [
       "45"
      ]
     },
     "execution_count": 11,
     "metadata": {},
     "output_type": "execute_result"
    }
   ],
   "source": [
    "index.count()"
   ]
  },
  {
   "cell_type": "code",
   "execution_count": 23,
   "metadata": {},
   "outputs": [],
   "source": [
    "index.upsert(\n",
    "    documents=text_list,\n",
    "    ids=page_number_id\n",
    ")"
   ]
  },
  {
   "cell_type": "code",
   "execution_count": 26,
   "metadata": {},
   "outputs": [],
   "source": [
    "user_input=\"what is Determination of non-MSAs.\"\n",
    "\n",
    "results = index.query(\n",
    "    query_texts=[user_input],\n",
    "    n_results=5\n",
    ")"
   ]
  },
  {
   "cell_type": "code",
   "execution_count": 32,
   "metadata": {},
   "outputs": [],
   "source": [
    "context=results['documents']"
   ]
  },
  {
   "cell_type": "markdown",
   "metadata": {},
   "source": [
    ">>>>>>>>>>OPenaai instialization"
   ]
  },
  {
   "cell_type": "code",
   "execution_count": 33,
   "metadata": {},
   "outputs": [],
   "source": [
    "prompt=f\"You are a very helpful chat assistant who answers the {user_input} with the {context} provide. Only answer based on the provided context dont add any other details\""
   ]
  },
  {
   "cell_type": "code",
   "execution_count": 56,
   "metadata": {},
   "outputs": [
    {
     "data": {
      "text/plain": [
       "\"You are a very helpful chat assistant who answers the what is Determination of non-MSAs. with the [['6 2018) are used for all purposes of this notice.  These delineations reflect the OMB \\\\nStandards for Delineating Core Based Statistical Areas for the 2010 Decennial Census.4 \\\\n(b) Determination of non-MSAs .  In general, non-MSAs are defined as \\\\nnonmetropolitan areas as identified in the May 2021 Metropolitan and Nonmetropolitan Area Definitions\\\\n5 published by the Occupational Employment and Wages Statistics \\\\ndivision of the U.S. Bureau of Labor Statistics (BLS).  The BLS works in conjunction with individual states to determine nonmetropolitan area definitions.  MSAs are first delineated, and then counties outside of MSAs are grouped together as \\\\nnonmetropolitan areas.  For purposes of this notice, the boundaries of non-MSAs in the states of Connecticut, Maine, Massachusetts, New Hampshire, Rhode Island, and Vermont have been determined according to the boundaries of counties in a \\\\nBLS-defined nonmetropolitan area that have no portion in a MSA.\\\\n6  For each of the \\\\nIsland Territories of American Samoa, Guam, the Commonwealth of the Northern \\\\nMariana Islands, and the U.S. Virgin Islands, the whole territory is grouped as one non-\\\\nMSA.   Appendix A contains the delineations of MSAs and non -MSAs that are used for \\\\nall purposes of this notice.  \\\\n(2) Fossil Fuel Employment.  For purposes of determining whether an MSA or \\\\nnon-MSA is in the Statistical Area Category based on Fossil Fuel Employment, the \\\\nrelevant direct employment is determined by the number of people employed in the industries identified below by 2017 North American Industry Classification System \\\\n \\\\n4 See 2010 Standards for Delineating Metropolitan and Micropolitan Statist ical Areas , 75 FR 37245 (June \\\\n28, 2010), available at: https://www.federalregister.gov/documents/ 2010/06/28/2010 -15605/2010 -\\\\nstandards -for-delineating -metropolitan- and-micropolitan -statistical- areas . \\\\n5 Available at May 2021 OEWS Metropolitan and Nonmetropolitan Area Definitions (bls.gov) . \\\\n6 The boundaries of counties are defined in the 2020 TIGER/Line Geodatabases as defined by the \\\\nCensus Bureau.  ', '4 (including to determine whether an MSA or non-MSA has met the threshold for direct \\\\nemployment or local tax revenue related to the extraction, processing, transport, or \\\\nstorage of coal, oil, or natural gas) and to determine which “census tracts” (as defined  \\\\nby the U.S. Census Bureau (Census Bureau)) had a coal mine closure or coal -fired \\\\nelectric generating unit retirement in the relevant time periods; and whether any changes to the definition, scope, boundary, or status of a brownfield site, an MSA or \\\\nnon-MS A, or a census tract should be considered during the relevant credit period.  \\\\nComments received in response to Notice 2022- 51 were considered in the drafting of \\\\nthis notice.  \\\\nSECTION 3. ENERGY COMMUNITY CATEGORIES  \\\\n.01 In General.  Section 45(b)(11)(B) identifies the following location- based \\\\ncategories of energy communities for purposes of §§ 45, 45Y, 48, and 48E:  \\\\n(1) B rownfield Category.  This category includes a brownfield site (as defined in \\\\n§ 101(39)(A), (B), and (D)(ii)(III) of the Comp rehensive Environmental Response, \\\\nCompensation, and Liability Act of 1980 (CERCLA) (42 U.S.C. § 9601(39)).  See section 3.02 of this notice for a description of this category of energy community, which this notice refers to as the “Brownfield Category.”  \\\\n(2) S\\\\ntatistical Area Category.  This category includes an MSA or non- MSA that: \\\\n(i) has (or had at any time after December 31, 2009) 0.17 percent or greater direct employment (Fossil Fuel Employment) or 25 percent or greater local tax revenues \\\\n(Fossil Fuel Tax Revenue) related to the extraction, processing, transport, or storage of \\\\ncoal, oil, or natural gas (as determined by the Secretary of the Treasury or her delegate (Secretary)), and (ii) has an unemployment rate at or above the national average ', '9 (4) Fossil Fuel Tax Revenue.  The Statistical Area Category may  include MSAs \\\\nor non -MSAs based on Fossil Fuel Tax Revenue.  Determining the level of Fossil Fuel \\\\nTax Revenue for an MSA or non-MSA presents certain data challenges because such \\\\ndata is not readily available from public sources, MSAs and non-MSAs may cover  \\\\nmultiple localities that are sometimes, in the case of MSAs, located in different states, \\\\nand each locality may have a different local tax regime.  The Treasury Department and \\\\nthe IRS invite public comments addressing the possible data sources, revenue categories, and procedures to determine whether an MSA or non-MSA qualifies under \\\\nthe Statistical Area Category based on Fossil Fuel Tax Revenue.  \\\\n.04 C\\\\noal Closure Category . \\\\n(1) Census Tracts .  The Census Bureau defines census tracts as relatively \\\\npermanent s mall-area geographic divisions of a county or statistically equivalent entity \\\\ndefined for the tabulation and presentation of data from the decennial census and selected other statistical programs.\\\\n10  For purposes of determining whether a census \\\\ntract is an  energy community, the term census tract is defined and delineated by the \\\\nCensus Bureau for purposes of the 2020 Decennial Census (as described in 83 FR 56277).\\\\n11 \\\\n(2) Other Definitions Pertaining to Coal Closure Category . \\\\n(a) Closed Coal Mine.  The term cl osed coal mine means a coal mine classified \\\\nas a surface or underground mine that has ever had for any period of time, since \\\\n \\\\n10 Census Tracts for the 2020 Census —Final Criteria , 83 FR 56277 (November 13, 20218), available at: \\\\nhttps://www.federalregister.gov/documents/2018/11/13/2018- 24567/census -tracts -for-the-2020- census -\\\\nfinal-criteria . \\\\n11 The boundaries of the 2020 census tracts are defined in the 2020 TIGER/Line Geodatabases as \\\\ndefined by the Census Bureau.  ', '5 unemployment rate for the previous year (as determined by the Secretary).  See section \\\\n3.03 of this notice for a description of this category of energy community, which this \\\\nnotice refers to as the “Statistical Area Category.”  \\\\n(3) Coal Closure Category.  This category includes a census tract (or a census \\\\ntract directly adjoining such census tract): (i) in which a coal mine has closed after December 31, 1999, or (ii)  in which a coal -fired electric generating unit has been retired \\\\nafter December 31, 2009.  See section 3.04 of this notice for a description of this \\\\ncategory of energy community, which this notice refers to as the “Coal Closure \\\\nCategory.”  \\\\n.02 B\\\\nrownfield Category .  A brownfield site for purposes of the Brownfield \\\\nCategory is defined in 42 U.S.C. § 9601(39)(A ) as real property, the expansion, \\\\nredevelopment, or reuse of which may be complicated by the presence or potential \\\\npresence of a hazardous substance, pollutant, or contaminant (as defined under 42 U.S.C. §  9601) and certain mine-scarred land (as defined in 42 U.S.C. \\\\n§ 9601(39)(D)(ii)(III)).  A brownfield site does not include the categories of property \\\\ndescribed in 42 U.S.C. § 9601(39)(B).  \\\\n.03 S\\\\ntatistical Area Category . \\\\n(1) In General.  The Statistical Area Category includes MSAs and non-MSAs. \\\\n(a) Determin ation of MSAs .  In general, MSAs are groups of counties or county -\\\\nequivalents that are grouped according to standards determined by the Office of \\\\nManagement and Budget (OMB), within the Executive Office of the President.  The \\\\nOMB updates these standards every 10 years in accordance with the decennial census of the United States.  MSA delineations provided by OMB in Bulletin No. 18- 03 (April 18, ', '8 comparison is made using unemployment rates for the previous calendar year.  The \\\\ncounty tables report the total number of individuals in the labor force and the total \\\\nnumber unemployed.  These amounts are then summed for each county within an MSA \\\\nor non -MSA to determine the total labor force and total number of unemployed \\\\nindividuals.  The unemployment rate is calculated by div iding the total number of \\\\nunemployed individuals within the MSA or non-MSA by the total labor force.  \\\\nAnnual unemployment rates for a calendar year generally are released in April of \\\\nthe following calendar year.  The Treasury Department and the IRS intend t o issue a \\\\nlisting identifying the MSAs and non-MSAs that qualify in the Statistical Area Category \\\\nbased on Fossil Fuel Employment after the unemployment data for 2022 becomes available.  The Treasury Department and the IRS intend to update the listing of t he \\\\nStatistical Area Category based on Fossil Fuel Employment annually.  These updates \\\\ngenerally will be issued annually in May.  The first listing of the Statistical Area Category \\\\nbased on Fossil Fuel Employment will apply to the period beginning on Januar y 1, 2023.  \\\\nEach subsequent annual release will determine the MSAs and non-MSAs that will \\\\nqualify under the Statistical Area Category based on Fossil Fuel Employment for the 12-\\\\nmonth period starting in May through April of the following year.  For example,  the \\\\nenergy communities defined by the 2022 unemployment rates will be designated in May \\\\nof 2023 and will remain in place until the next update, which would likely be in May 2024 \\\\nafter the necessary data becomes available.  The update in May 2024 will use 2023 \\\\nannual unemployment data and will remain in place until the next update, likely in May 2025.  This approach is used because of the lag in availability of annual county \\\\nunemployment rates.  ']] provide. Only answer based on the provided context dont add any other details\""
      ]
     },
     "execution_count": 56,
     "metadata": {},
     "output_type": "execute_result"
    }
   ],
   "source": [
    "prompt"
   ]
  },
  {
   "cell_type": "code",
   "execution_count": 1,
   "metadata": {},
   "outputs": [
    {
     "ename": "ImportError",
     "evalue": "cannot import name 'OpenAI' from 'openai' (C:\\Users\\DELL\\AppData\\Local\\Packages\\PythonSoftwareFoundation.Python.3.10_qbz5n2kfra8p0\\LocalCache\\local-packages\\Python310\\site-packages\\openai\\__init__.py)",
     "output_type": "error",
     "traceback": [
      "\u001b[1;31m---------------------------------------------------------------------------\u001b[0m",
      "\u001b[1;31mImportError\u001b[0m                               Traceback (most recent call last)",
      "Cell \u001b[1;32mIn[1], line 1\u001b[0m\n\u001b[1;32m----> 1\u001b[0m \u001b[38;5;28;01mfrom\u001b[39;00m \u001b[38;5;21;01mopenai\u001b[39;00m \u001b[38;5;28;01mimport\u001b[39;00m OpenAI\n\u001b[0;32m      2\u001b[0m client\u001b[38;5;241m=\u001b[39mOpenAI(api_key\u001b[38;5;241m=\u001b[39m\u001b[38;5;124m\"\u001b[39m\u001b[38;5;124msk-xKg18VyDWdLms4yHNZWsT3BlbkFJ5q48NXupuO3zurZemlKc\u001b[39m\u001b[38;5;124m\"\u001b[39m)\n\u001b[0;32m      4\u001b[0m response \u001b[38;5;241m=\u001b[39m client\u001b[38;5;241m.\u001b[39mcompletions\u001b[38;5;241m.\u001b[39mcreate(\n\u001b[0;32m      5\u001b[0m     model\u001b[38;5;241m=\u001b[39m\u001b[38;5;124m\"\u001b[39m\u001b[38;5;124mgpt-3.5-turbo-instruct\u001b[39m\u001b[38;5;124m\"\u001b[39m,\n\u001b[0;32m      6\u001b[0m     prompt\u001b[38;5;241m=\u001b[39mprompt,\n\u001b[0;32m      7\u001b[0m     temperature\u001b[38;5;241m=\u001b[39m\u001b[38;5;241m0\u001b[39m,\n\u001b[0;32m      8\u001b[0m     max_tokens\u001b[38;5;241m=\u001b[39m\u001b[38;5;241m300\u001b[39m\n\u001b[0;32m      9\u001b[0m )\n",
      "\u001b[1;31mImportError\u001b[0m: cannot import name 'OpenAI' from 'openai' (C:\\Users\\DELL\\AppData\\Local\\Packages\\PythonSoftwareFoundation.Python.3.10_qbz5n2kfra8p0\\LocalCache\\local-packages\\Python310\\site-packages\\openai\\__init__.py)"
     ]
    }
   ],
   "source": [
    "from openai import OpenAI\n",
    "client=OpenAI(api_key=\"\")\n",
    "\n",
    "response = client.completions.create(\n",
    "    model=\"gpt-3.5-turbo-instruct\",\n",
    "    prompt=prompt,\n",
    "    temperature=0,\n",
    "    max_tokens=300\n",
    ")"
   ]
  },
  {
   "cell_type": "code",
   "execution_count": 67,
   "metadata": {},
   "outputs": [
    {
     "data": {
      "text/plain": [
       "Completion(id='cmpl-8tzxJpVOTajXwJ8Zqf6sNRWnFaYy6', choices=[CompletionChoice(finish_reason='stop', index=0, logprobs=None, text='\\n\\nThe determination of non-MSAs is based on the delineations provided by the Office of Management and Budget (OMB) in accordance with the 2010 Standards for Delineating Core Based Statistical Areas for the 2010 Decennial Census. Non-MSAs are generally defined as nonmetropolitan areas as identified in the May 2021 Metropolitan and Nonmetropolitan Area Definitions published by the Occupational Employment and Wages Statistics division of the U.S. Bureau of Labor Statistics (BLS). The BLS works with individual states to determine nonmetropolitan area definitions. MSAs are first delineated, and then counties outside of MSAs are grouped together as nonmetropolitan areas. The boundaries of non-MSAs in certain states are determined by the boundaries of counties in a BLS-defined nonmetropolitan area that have no portion in an MSA. For the Island Territories of American Samoa, Guam, the Commonwealth of the Northern Mariana Islands, and the U.S. Virgin Islands, the whole territory is grouped as one non-MSA. The delineations of MSAs and non-MSAs used for all purposes of this notice can be found in Appendix A.')], created=1708356889, model='gpt-3.5-turbo-instruct', object='text_completion', system_fingerprint=None, usage=CompletionUsage(completion_tokens=237, prompt_tokens=2385, total_tokens=2622))"
      ]
     },
     "execution_count": 67,
     "metadata": {},
     "output_type": "execute_result"
    }
   ],
   "source": [
    "response"
   ]
  },
  {
   "cell_type": "code",
   "execution_count": 37,
   "metadata": {},
   "outputs": [
    {
     "data": {
      "text/plain": [
       "'\\n\\nThe determination of non-MSAs is based on the delineations provided by the Office of Management and Budget (OMB) in accordance with the 2010 Standards for Delineating Core Based Statistical Areas for the 2010 Decennial Census. Non-MSAs are generally defined as nonmetropolitan areas as identified in the May 2021 Metropolitan and Nonmetropolitan Area Definitions published by the Occupational Employment and Wages Statistics division of the U.S. Bureau of Labor Statistics (BLS). The BLS works with individual states to determine nonmetropolitan area definitions. MSAs are first delineated, and then counties outside of MSAs are grouped together as nonmetropolitan areas. The boundaries of non-MSAs in certain states are determined by the boundaries of counties in a BLS-defined nonmetropolitan area that have no portion in an MSA. For the Island Territories of American Samoa, Guam, the Commonwealth of the Northern Mariana Islands, and the U.S. Virgin Islands, the whole territory is grouped as one non-MSA. The delineations of MSAs and non-MSAs used for all purposes of this notice can be found in Appendix A.'"
      ]
     },
     "execution_count": 37,
     "metadata": {},
     "output_type": "execute_result"
    }
   ],
   "source": [
    "response.choices[0].text"
   ]
  },
  {
   "cell_type": "markdown",
   "metadata": {},
   "source": [
    ">>>>>>>>>>> Multiple pdfs"
   ]
  },
  {
   "cell_type": "code",
   "execution_count": 2,
   "metadata": {},
   "outputs": [],
   "source": [
    "# Multiple pdfs:\n",
    "def get_pdf_text(pdf_docs):\n",
    "    text_list = []  # Store extracted text from each PDF in a list\n",
    "    for pdf in pdf_docs:\n",
    "        pdf_reader = PdfReader(pdf)\n",
    "        for page in pdf_reader.pages:\n",
    "            text_list.append(page.extract_text())  # Append extracted text to the list\n",
    "    return text_list  # Return the list of extracted text"
   ]
  },
  {
   "cell_type": "code",
   "execution_count": 5,
   "metadata": {},
   "outputs": [
    {
     "name": "stdout",
     "output_type": "stream",
     "text": [
      "['Energy Communities.pdf', 'Energy Credit for Solar and Wind Facilities.pdf', 'Fuel Tax Credits _ Internal Revenue Service.pdf', 'Home Energy Tax Credits _ Internal Revenue Service.pdf', 'IRS provides initial guidance for the domestic content bonus credit _ Internal Revenue Service.pdf', 'Low-Income Communities Bonus Credit _ Internal Revenue Service.pdf', 'Prevailing wage and apprenticeship requirements _ Internal Revenue Service.pdf', 'Summary of Inflation Reduction Act provisions related to renewable energy.pdf', 'Sustainable Aviation Fuel Credit _ Internal Revenue Service.pdf']\n"
     ]
    }
   ],
   "source": [
    "import os\n",
    "folder_path = 'data_pdfs'\n",
    "\n",
    "file_list = os.listdir(folder_path)\n",
    "print(file_list)\n",
    "\n",
    "pdf_texts = []\n",
    "\n",
    "\n",
    "for file_path in file_list:\n",
    "    if file_path.endswith('.pdf'):\n",
    "        pdf_text = get_pdf_text([str(os.path.join(folder_path, file_path))])  # Pass a list with the file path\n",
    "\n",
    "        pdf_texts.extend(pdf_text)  # Extend the list with extracted text"
   ]
  },
  {
   "cell_type": "code",
   "execution_count": 6,
   "metadata": {},
   "outputs": [
    {
     "data": {
      "text/plain": [
       "45"
      ]
     },
     "execution_count": 6,
     "metadata": {},
     "output_type": "execute_result"
    }
   ],
   "source": [
    "len(pdf_texts)"
   ]
  },
  {
   "cell_type": "code",
   "execution_count": 7,
   "metadata": {},
   "outputs": [
    {
     "name": "stdout",
     "output_type": "stream",
     "text": [
      "[1, 2, 3, 4, 5, 6, 7, 8, 9, 10, 11, 12, 13, 14, 15, 16, 17, 18, 19, 20, 21, 22, 23, 24, 25, 26, 27, 28, 29, 30, 31, 32, 33, 34, 35, 36, 37, 38, 39, 40, 41, 42, 43, 44, 45]\n",
      "['1', '2', '3', '4', '5', '6', '7', '8', '9', '10', '11', '12', '13', '14', '15', '16', '17', '18', '19', '20', '21', '22', '23', '24', '25', '26', '27', '28', '29', '30', '31', '32', '33', '34', '35', '36', '37', '38', '39', '40', '41', '42', '43', '44', '45']\n"
     ]
    }
   ],
   "source": [
    "page_number_id=list(range(1,46))\n",
    "print(page_number_id)\n",
    "page_number_id = [str(i) for i in page_number_id]\n",
    "print(page_number_id)"
   ]
  },
  {
   "cell_type": "code",
   "execution_count": 12,
   "metadata": {},
   "outputs": [],
   "source": [
    "cindex= chromadb.PersistentClient(path=\"vectordata/\")\n",
    "\n",
    "index_all= cindex.get_or_create_collection(name=\"pdf_complete_pdfs\",embedding_function=openai_ef)\n",
    "\n"
   ]
  },
  {
   "cell_type": "code",
   "execution_count": 13,
   "metadata": {},
   "outputs": [
    {
     "ename": "ModuleNotFoundError",
     "evalue": "No module named 'openai.object_classes'",
     "output_type": "error",
     "traceback": [
      "\u001b[1;31m---------------------------------------------------------------------------\u001b[0m",
      "\u001b[1;31mModuleNotFoundError\u001b[0m                       Traceback (most recent call last)",
      "Cell \u001b[1;32mIn[13], line 1\u001b[0m\n\u001b[1;32m----> 1\u001b[0m \u001b[43mindex_all\u001b[49m\u001b[38;5;241;43m.\u001b[39;49m\u001b[43mupsert\u001b[49m\u001b[43m(\u001b[49m\n\u001b[0;32m      2\u001b[0m \u001b[43m    \u001b[49m\u001b[43mdocuments\u001b[49m\u001b[38;5;241;43m=\u001b[39;49m\u001b[43mpdf_texts\u001b[49m\u001b[43m,\u001b[49m\n\u001b[0;32m      3\u001b[0m \u001b[43m    \u001b[49m\u001b[43mids\u001b[49m\u001b[38;5;241;43m=\u001b[39;49m\u001b[43mpage_number_id\u001b[49m\n\u001b[0;32m      4\u001b[0m \u001b[43m)\u001b[49m\n",
      "File \u001b[1;32m~\\AppData\\Local\\Packages\\PythonSoftwareFoundation.Python.3.10_qbz5n2kfra8p0\\LocalCache\\local-packages\\Python310\\site-packages\\chromadb\\api\\models\\Collection.py:483\u001b[0m, in \u001b[0;36mCollection.upsert\u001b[1;34m(self, ids, embeddings, metadatas, documents, images, uris)\u001b[0m\n\u001b[0;32m    481\u001b[0m \u001b[38;5;28;01mif\u001b[39;00m embeddings \u001b[38;5;129;01mis\u001b[39;00m \u001b[38;5;28;01mNone\u001b[39;00m:\n\u001b[0;32m    482\u001b[0m     \u001b[38;5;28;01mif\u001b[39;00m documents \u001b[38;5;129;01mis\u001b[39;00m \u001b[38;5;129;01mnot\u001b[39;00m \u001b[38;5;28;01mNone\u001b[39;00m:\n\u001b[1;32m--> 483\u001b[0m         embeddings \u001b[38;5;241m=\u001b[39m \u001b[38;5;28;43mself\u001b[39;49m\u001b[38;5;241;43m.\u001b[39;49m\u001b[43m_embed\u001b[49m\u001b[43m(\u001b[49m\u001b[38;5;28;43minput\u001b[39;49m\u001b[38;5;241;43m=\u001b[39;49m\u001b[43mdocuments\u001b[49m\u001b[43m)\u001b[49m\n\u001b[0;32m    484\u001b[0m     \u001b[38;5;28;01melse\u001b[39;00m:\n\u001b[0;32m    485\u001b[0m         embeddings \u001b[38;5;241m=\u001b[39m \u001b[38;5;28mself\u001b[39m\u001b[38;5;241m.\u001b[39m_embed(\u001b[38;5;28minput\u001b[39m\u001b[38;5;241m=\u001b[39mimages)\n",
      "File \u001b[1;32m~\\AppData\\Local\\Packages\\PythonSoftwareFoundation.Python.3.10_qbz5n2kfra8p0\\LocalCache\\local-packages\\Python310\\site-packages\\chromadb\\api\\models\\Collection.py:633\u001b[0m, in \u001b[0;36mCollection._embed\u001b[1;34m(self, input)\u001b[0m\n\u001b[0;32m    628\u001b[0m \u001b[38;5;28;01mif\u001b[39;00m \u001b[38;5;28mself\u001b[39m\u001b[38;5;241m.\u001b[39m_embedding_function \u001b[38;5;129;01mis\u001b[39;00m \u001b[38;5;28;01mNone\u001b[39;00m:\n\u001b[0;32m    629\u001b[0m     \u001b[38;5;28;01mraise\u001b[39;00m \u001b[38;5;167;01mValueError\u001b[39;00m(\n\u001b[0;32m    630\u001b[0m         \u001b[38;5;124m\"\u001b[39m\u001b[38;5;124mYou must provide an embedding function to compute embeddings.\u001b[39m\u001b[38;5;124m\"\u001b[39m\n\u001b[0;32m    631\u001b[0m         \u001b[38;5;124m\"\u001b[39m\u001b[38;5;124mhttps://docs.trychroma.com/embeddings\u001b[39m\u001b[38;5;124m\"\u001b[39m\n\u001b[0;32m    632\u001b[0m     )\n\u001b[1;32m--> 633\u001b[0m \u001b[38;5;28;01mreturn\u001b[39;00m \u001b[38;5;28;43mself\u001b[39;49m\u001b[38;5;241;43m.\u001b[39;49m\u001b[43m_embedding_function\u001b[49m\u001b[43m(\u001b[49m\u001b[38;5;28;43minput\u001b[39;49m\u001b[38;5;241;43m=\u001b[39;49m\u001b[38;5;28;43minput\u001b[39;49m\u001b[43m)\u001b[49m\n",
      "File \u001b[1;32m~\\AppData\\Local\\Packages\\PythonSoftwareFoundation.Python.3.10_qbz5n2kfra8p0\\LocalCache\\local-packages\\Python310\\site-packages\\chromadb\\utils\\embedding_functions.py:194\u001b[0m, in \u001b[0;36mOpenAIEmbeddingFunction.__call__\u001b[1;34m(self, input)\u001b[0m\n\u001b[0;32m    190\u001b[0m     embeddings \u001b[38;5;241m=\u001b[39m \u001b[38;5;28mself\u001b[39m\u001b[38;5;241m.\u001b[39m_client\u001b[38;5;241m.\u001b[39mcreate(\n\u001b[0;32m    191\u001b[0m         \u001b[38;5;28minput\u001b[39m\u001b[38;5;241m=\u001b[39m\u001b[38;5;28minput\u001b[39m, engine\u001b[38;5;241m=\u001b[39m\u001b[38;5;28mself\u001b[39m\u001b[38;5;241m.\u001b[39m_deployment_id \u001b[38;5;129;01mor\u001b[39;00m \u001b[38;5;28mself\u001b[39m\u001b[38;5;241m.\u001b[39m_model_name\n\u001b[0;32m    192\u001b[0m     )[\u001b[38;5;124m\"\u001b[39m\u001b[38;5;124mdata\u001b[39m\u001b[38;5;124m\"\u001b[39m]\n\u001b[0;32m    193\u001b[0m \u001b[38;5;28;01melse\u001b[39;00m:\n\u001b[1;32m--> 194\u001b[0m     embeddings \u001b[38;5;241m=\u001b[39m \u001b[38;5;28;43mself\u001b[39;49m\u001b[38;5;241;43m.\u001b[39;49m\u001b[43m_client\u001b[49m\u001b[38;5;241;43m.\u001b[39;49m\u001b[43mcreate\u001b[49m\u001b[43m(\u001b[49m\u001b[38;5;28;43minput\u001b[39;49m\u001b[38;5;241;43m=\u001b[39;49m\u001b[38;5;28;43minput\u001b[39;49m\u001b[43m,\u001b[49m\u001b[43m \u001b[49m\u001b[43mmodel\u001b[49m\u001b[38;5;241;43m=\u001b[39;49m\u001b[38;5;28;43mself\u001b[39;49m\u001b[38;5;241;43m.\u001b[39;49m\u001b[43m_model_name\u001b[49m\u001b[43m)\u001b[49m[\n\u001b[0;32m    195\u001b[0m         \u001b[38;5;124m\"\u001b[39m\u001b[38;5;124mdata\u001b[39m\u001b[38;5;124m\"\u001b[39m\n\u001b[0;32m    196\u001b[0m     ]\n\u001b[0;32m    198\u001b[0m \u001b[38;5;66;03m# Sort resulting embeddings by index\u001b[39;00m\n\u001b[0;32m    199\u001b[0m sorted_embeddings \u001b[38;5;241m=\u001b[39m \u001b[38;5;28msorted\u001b[39m(\n\u001b[0;32m    200\u001b[0m     embeddings, key\u001b[38;5;241m=\u001b[39m\u001b[38;5;28;01mlambda\u001b[39;00m e: e[\u001b[38;5;124m\"\u001b[39m\u001b[38;5;124mindex\u001b[39m\u001b[38;5;124m\"\u001b[39m]\n\u001b[0;32m    201\u001b[0m )  \u001b[38;5;66;03m# type: ignore\u001b[39;00m\n",
      "File \u001b[1;32m~\\AppData\\Local\\Packages\\PythonSoftwareFoundation.Python.3.10_qbz5n2kfra8p0\\LocalCache\\local-packages\\Python310\\site-packages\\openai\\api_resources\\embedding.py:33\u001b[0m, in \u001b[0;36mcreate\u001b[1;34m(cls, *args, **kwargs)\u001b[0m\n",
      "File \u001b[1;32m~\\AppData\\Local\\Packages\\PythonSoftwareFoundation.Python.3.10_qbz5n2kfra8p0\\LocalCache\\local-packages\\Python310\\site-packages\\openai\\api_resources\\abstract\\engine_api_resource.py:178\u001b[0m, in \u001b[0;36mcreate\u001b[1;34m(cls, api_key, api_base, api_type, request_id, api_version, organization, **params)\u001b[0m\n",
      "File \u001b[1;32m~\\AppData\\Local\\Packages\\PythonSoftwareFoundation.Python.3.10_qbz5n2kfra8p0\\LocalCache\\local-packages\\Python310\\site-packages\\openai\\util.py:132\u001b[0m, in \u001b[0;36mconvert_to_openai_object\u001b[1;34m(resp, api_key, api_version, organization, engine, plain_old_data)\u001b[0m\n",
      "File \u001b[1;32m~\\AppData\\Local\\Packages\\PythonSoftwareFoundation.Python.3.10_qbz5n2kfra8p0\\LocalCache\\local-packages\\Python310\\site-packages\\openai\\util.py:96\u001b[0m, in \u001b[0;36mget_object_classes\u001b[1;34m()\u001b[0m\n",
      "\u001b[1;31mModuleNotFoundError\u001b[0m: No module named 'openai.object_classes'"
     ]
    }
   ],
   "source": [
    "index_all.upsert(\n",
    "    documents=pdf_texts,\n",
    "    ids=page_number_id\n",
    ")"
   ]
  },
  {
   "cell_type": "code",
   "execution_count": 50,
   "metadata": {},
   "outputs": [],
   "source": [
    "user_input=\"what is Determination of non-MSAs.\"\n",
    "\n",
    "results = index.query(\n",
    "    query_texts=[user_input],\n",
    "    n_results=5\n",
    ")"
   ]
  },
  {
   "cell_type": "code",
   "execution_count": 51,
   "metadata": {},
   "outputs": [
    {
     "data": {
      "text/plain": [
       "{'ids': [['6', '4', '9', '5', '8']],\n",
       " 'distances': [[0.3323924095324427,\n",
       "   0.4314660042122861,\n",
       "   0.4422706338912935,\n",
       "   0.4597125133683554,\n",
       "   0.4769447130258549]],\n",
       " 'metadatas': [[None, None, None, None, None]],\n",
       " 'embeddings': None,\n",
       " 'documents': [['6 2018) are used for all purposes of this notice.  These delineations reflect the OMB \\nStandards for Delineating Core Based Statistical Areas for the 2010 Decennial Census.4 \\n(b) Determination of non-MSAs .  In general, non-MSAs are defined as \\nnonmetropolitan areas as identified in the May 2021 Metropolitan and Nonmetropolitan Area Definitions\\n5 published by the Occupational Employment and Wages Statistics \\ndivision of the U.S. Bureau of Labor Statistics (BLS).  The BLS works in conjunction with individual states to determine nonmetropolitan area definitions.  MSAs are first delineated, and then counties outside of MSAs are grouped together as \\nnonmetropolitan areas.  For purposes of this notice, the boundaries of non-MSAs in the states of Connecticut, Maine, Massachusetts, New Hampshire, Rhode Island, and Vermont have been determined according to the boundaries of counties in a \\nBLS-defined nonmetropolitan area that have no portion in a MSA.\\n6  For each of the \\nIsland Territories of American Samoa, Guam, the Commonwealth of the Northern \\nMariana Islands, and the U.S. Virgin Islands, the whole territory is grouped as one non-\\nMSA.   Appendix A contains the delineations of MSAs and non -MSAs that are used for \\nall purposes of this notice.  \\n(2) Fossil Fuel Employment.  For purposes of determining whether an MSA or \\nnon-MSA is in the Statistical Area Category based on Fossil Fuel Employment, the \\nrelevant direct employment is determined by the number of people employed in the industries identified below by 2017 North American Industry Classification System \\n \\n4 See 2010 Standards for Delineating Metropolitan and Micropolitan Statist ical Areas , 75 FR 37245 (June \\n28, 2010), available at: https://www.federalregister.gov/documents/ 2010/06/28/2010 -15605/2010 -\\nstandards -for-delineating -metropolitan- and-micropolitan -statistical- areas . \\n5 Available at May 2021 OEWS Metropolitan and Nonmetropolitan Area Definitions (bls.gov) . \\n6 The boundaries of counties are defined in the 2020 TIGER/Line Geodatabases as defined by the \\nCensus Bureau.  ',\n",
       "   '4 (including to determine whether an MSA or non-MSA has met the threshold for direct \\nemployment or local tax revenue related to the extraction, processing, transport, or \\nstorage of coal, oil, or natural gas) and to determine which “census tracts” (as defined  \\nby the U.S. Census Bureau (Census Bureau)) had a coal mine closure or coal -fired \\nelectric generating unit retirement in the relevant time periods; and whether any changes to the definition, scope, boundary, or status of a brownfield site, an MSA or \\nnon-MS A, or a census tract should be considered during the relevant credit period.  \\nComments received in response to Notice 2022- 51 were considered in the drafting of \\nthis notice.  \\nSECTION 3. ENERGY COMMUNITY CATEGORIES  \\n.01 In General.  Section 45(b)(11)(B) identifies the following location- based \\ncategories of energy communities for purposes of §§ 45, 45Y, 48, and 48E:  \\n(1) B rownfield Category.  This category includes a brownfield site (as defined in \\n§ 101(39)(A), (B), and (D)(ii)(III) of the Comp rehensive Environmental Response, \\nCompensation, and Liability Act of 1980 (CERCLA) (42 U.S.C. § 9601(39)).  See section 3.02 of this notice for a description of this category of energy community, which this notice refers to as the “Brownfield Category.”  \\n(2) S\\ntatistical Area Category.  This category includes an MSA or non- MSA that: \\n(i) has (or had at any time after December 31, 2009) 0.17 percent or greater direct employment (Fossil Fuel Employment) or 25 percent or greater local tax revenues \\n(Fossil Fuel Tax Revenue) related to the extraction, processing, transport, or storage of \\ncoal, oil, or natural gas (as determined by the Secretary of the Treasury or her delegate (Secretary)), and (ii) has an unemployment rate at or above the national average ',\n",
       "   '9 (4) Fossil Fuel Tax Revenue.  The Statistical Area Category may  include MSAs \\nor non -MSAs based on Fossil Fuel Tax Revenue.  Determining the level of Fossil Fuel \\nTax Revenue for an MSA or non-MSA presents certain data challenges because such \\ndata is not readily available from public sources, MSAs and non-MSAs may cover  \\nmultiple localities that are sometimes, in the case of MSAs, located in different states, \\nand each locality may have a different local tax regime.  The Treasury Department and \\nthe IRS invite public comments addressing the possible data sources, revenue categories, and procedures to determine whether an MSA or non-MSA qualifies under \\nthe Statistical Area Category based on Fossil Fuel Tax Revenue.  \\n.04 C\\noal Closure Category . \\n(1) Census Tracts .  The Census Bureau defines census tracts as relatively \\npermanent s mall-area geographic divisions of a county or statistically equivalent entity \\ndefined for the tabulation and presentation of data from the decennial census and selected other statistical programs.\\n10  For purposes of determining whether a census \\ntract is an  energy community, the term census tract is defined and delineated by the \\nCensus Bureau for purposes of the 2020 Decennial Census (as described in 83 FR 56277).\\n11 \\n(2) Other Definitions Pertaining to Coal Closure Category . \\n(a) Closed Coal Mine.  The term cl osed coal mine means a coal mine classified \\nas a surface or underground mine that has ever had for any period of time, since \\n \\n10 Census Tracts for the 2020 Census —Final Criteria , 83 FR 56277 (November 13, 20218), available at: \\nhttps://www.federalregister.gov/documents/2018/11/13/2018- 24567/census -tracts -for-the-2020- census -\\nfinal-criteria . \\n11 The boundaries of the 2020 census tracts are defined in the 2020 TIGER/Line Geodatabases as \\ndefined by the Census Bureau.  ',\n",
       "   '5 unemployment rate for the previous year (as determined by the Secretary).  See section \\n3.03 of this notice for a description of this category of energy community, which this \\nnotice refers to as the “Statistical Area Category.”  \\n(3) Coal Closure Category.  This category includes a census tract (or a census \\ntract directly adjoining such census tract): (i) in which a coal mine has closed after December 31, 1999, or (ii)  in which a coal -fired electric generating unit has been retired \\nafter December 31, 2009.  See section 3.04 of this notice for a description of this \\ncategory of energy community, which this notice refers to as the “Coal Closure \\nCategory.”  \\n.02 B\\nrownfield Category .  A brownfield site for purposes of the Brownfield \\nCategory is defined in 42 U.S.C. § 9601(39)(A ) as real property, the expansion, \\nredevelopment, or reuse of which may be complicated by the presence or potential \\npresence of a hazardous substance, pollutant, or contaminant (as defined under 42 U.S.C. §  9601) and certain mine-scarred land (as defined in 42 U.S.C. \\n§ 9601(39)(D)(ii)(III)).  A brownfield site does not include the categories of property \\ndescribed in 42 U.S.C. § 9601(39)(B).  \\n.03 S\\ntatistical Area Category . \\n(1) In General.  The Statistical Area Category includes MSAs and non-MSAs. \\n(a) Determin ation of MSAs .  In general, MSAs are groups of counties or county -\\nequivalents that are grouped according to standards determined by the Office of \\nManagement and Budget (OMB), within the Executive Office of the President.  The \\nOMB updates these standards every 10 years in accordance with the decennial census of the United States.  MSA delineations provided by OMB in Bulletin No. 18- 03 (April 18, ',\n",
       "   '8 comparison is made using unemployment rates for the previous calendar year.  The \\ncounty tables report the total number of individuals in the labor force and the total \\nnumber unemployed.  These amounts are then summed for each county within an MSA \\nor non -MSA to determine the total labor force and total number of unemployed \\nindividuals.  The unemployment rate is calculated by div iding the total number of \\nunemployed individuals within the MSA or non-MSA by the total labor force.  \\nAnnual unemployment rates for a calendar year generally are released in April of \\nthe following calendar year.  The Treasury Department and the IRS intend t o issue a \\nlisting identifying the MSAs and non-MSAs that qualify in the Statistical Area Category \\nbased on Fossil Fuel Employment after the unemployment data for 2022 becomes available.  The Treasury Department and the IRS intend to update the listing of t he \\nStatistical Area Category based on Fossil Fuel Employment annually.  These updates \\ngenerally will be issued annually in May.  The first listing of the Statistical Area Category \\nbased on Fossil Fuel Employment will apply to the period beginning on Januar y 1, 2023.  \\nEach subsequent annual release will determine the MSAs and non-MSAs that will \\nqualify under the Statistical Area Category based on Fossil Fuel Employment for the 12-\\nmonth period starting in May through April of the following year.  For example,  the \\nenergy communities defined by the 2022 unemployment rates will be designated in May \\nof 2023 and will remain in place until the next update, which would likely be in May 2024 \\nafter the necessary data becomes available.  The update in May 2024 will use 2023 \\nannual unemployment data and will remain in place until the next update, likely in May 2025.  This approach is used because of the lag in availability of annual county \\nunemployment rates.  ']],\n",
       " 'uris': None,\n",
       " 'data': None}"
      ]
     },
     "execution_count": 51,
     "metadata": {},
     "output_type": "execute_result"
    }
   ],
   "source": [
    "results"
   ]
  },
  {
   "cell_type": "code",
   "execution_count": null,
   "metadata": {},
   "outputs": [],
   "source": []
  }
 ],
 "metadata": {
  "kernelspec": {
   "display_name": "Python 3",
   "language": "python",
   "name": "python3"
  },
  "language_info": {
   "codemirror_mode": {
    "name": "ipython",
    "version": 3
   },
   "file_extension": ".py",
   "mimetype": "text/x-python",
   "name": "python",
   "nbconvert_exporter": "python",
   "pygments_lexer": "ipython3",
   "version": "3.10.11"
  }
 },
 "nbformat": 4,
 "nbformat_minor": 2
}
